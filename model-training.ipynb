{
 "cells": [
  {
   "cell_type": "code",
   "execution_count": 1,
   "id": "29fb09b1-6503-4dc6-b9c3-608c3e528fc7",
   "metadata": {},
   "outputs": [
    {
     "name": "stderr",
     "output_type": "stream",
     "text": [
      "C:\\Users\\David\\AppData\\Local\\Packages\\PythonSoftwareFoundation.Python.3.9_qbz5n2kfra8p0\\LocalCache\\local-packages\\Python39\\site-packages\\tqdm\\auto.py:22: TqdmWarning: IProgress not found. Please update jupyter and ipywidgets. See https://ipywidgets.readthedocs.io/en/stable/user_install.html\n",
      "  from .autonotebook import tqdm as notebook_tqdm\n"
     ]
    }
   ],
   "source": [
    "import os\n",
    "from math import sqrt\n",
    "\n",
    "import numpy as np\n",
    "import pandas as pd\n",
    "import matplotlib.pyplot as plt\n",
    "import seaborn as sns\n",
    "from sklearn.preprocessing import MinMaxScaler\n",
    "import pickle\n",
    "import torch\n",
    "import torch.nn as nn\n",
    "\n",
    "from oit_helpers import DataPreprocessors,LSTM,createDataLoader,getDataLoader\n",
    "\n",
    "sns.set(style=\"darkgrid\", font_scale=1.5)\n",
    "%matplotlib inline"
   ]
  },
  {
   "cell_type": "markdown",
   "id": "3858f9c1-0e71-4643-b3ce-03553a213837",
   "metadata": {},
   "source": [
    "# Data Preprocessing"
   ]
  },
  {
   "cell_type": "markdown",
   "id": "3edc2f3d-d5d7-4f71-9f3e-ac0f2c2ba05b",
   "metadata": {},
   "source": [
    "## 1. Import the data"
   ]
  },
  {
   "cell_type": "code",
   "execution_count": 2,
   "id": "1f82701e-6eae-495d-88f7-57f778a1f9ad",
   "metadata": {},
   "outputs": [],
   "source": [
    "data_location = './datasets/all-crypto-currencies/bitstampUSD_1-min_data_2012-01-01_to_2021-03-31.csv'\n",
    "data = pd.read_csv(data_location, \n",
    "                    parse_dates=['Timestamp'],\n",
    "                    index_col=\"Timestamp\")\n",
    "no_missing_data = data.dropna(subset=['Close'])\n",
    "dates = pd.to_datetime(no_missing_data.index, unit='s')\n",
    "no_missing_data.index = dates\n",
    "cropped = no_missing_data[no_missing_data.index.year>2016].copy()"
   ]
  },
  {
   "cell_type": "markdown",
   "id": "deb5b674-5b45-489e-b3a8-43320c74f3f3",
   "metadata": {},
   "source": [
    "## 2. Extract Bitcoin closing prices"
   ]
  },
  {
   "cell_type": "code",
   "execution_count": 3,
   "id": "671c6ffa-844d-4e5e-bbbd-5ebfdaef961a",
   "metadata": {},
   "outputs": [
    {
     "data": {
      "text/html": [
       "<div>\n",
       "<style scoped>\n",
       "    .dataframe tbody tr th:only-of-type {\n",
       "        vertical-align: middle;\n",
       "    }\n",
       "\n",
       "    .dataframe tbody tr th {\n",
       "        vertical-align: top;\n",
       "    }\n",
       "\n",
       "    .dataframe thead th {\n",
       "        text-align: right;\n",
       "    }\n",
       "</style>\n",
       "<table border=\"1\" class=\"dataframe\">\n",
       "  <thead>\n",
       "    <tr style=\"text-align: right;\">\n",
       "      <th></th>\n",
       "      <th>Close</th>\n",
       "    </tr>\n",
       "    <tr>\n",
       "      <th>Timestamp</th>\n",
       "      <th></th>\n",
       "    </tr>\n",
       "  </thead>\n",
       "  <tbody>\n",
       "    <tr>\n",
       "      <th>2017-01-01 00:01:00</th>\n",
       "      <td>966.34</td>\n",
       "    </tr>\n",
       "    <tr>\n",
       "      <th>2017-01-01 00:02:00</th>\n",
       "      <td>966.37</td>\n",
       "    </tr>\n",
       "    <tr>\n",
       "      <th>2017-01-01 00:05:00</th>\n",
       "      <td>966.43</td>\n",
       "    </tr>\n",
       "  </tbody>\n",
       "</table>\n",
       "</div>"
      ],
      "text/plain": [
       "                      Close\n",
       "Timestamp                  \n",
       "2017-01-01 00:01:00  966.34\n",
       "2017-01-01 00:02:00  966.37\n",
       "2017-01-01 00:05:00  966.43"
      ]
     },
     "execution_count": 3,
     "metadata": {},
     "output_type": "execute_result"
    }
   ],
   "source": [
    "bit_close = pd.DataFrame({'Close': cropped.Close.copy()})\n",
    "bit_close.head(3)"
   ]
  },
  {
   "cell_type": "code",
   "execution_count": 4,
   "id": "e30026ee-bbeb-4f99-92ec-56ffd3610a77",
   "metadata": {},
   "outputs": [
    {
     "data": {
      "text/plain": [
       "(2144365, 1)"
      ]
     },
     "execution_count": 4,
     "metadata": {},
     "output_type": "execute_result"
    }
   ],
   "source": [
    "bit_close.shape"
   ]
  },
  {
   "cell_type": "code",
   "execution_count": 5,
   "id": "ec2c59e0-595c-4208-81cf-8319c852be4c",
   "metadata": {},
   "outputs": [
    {
     "data": {
      "text/plain": [
       "Text(0.5, 1.0, 'BitCoin Closing Prices')"
      ]
     },
     "execution_count": 5,
     "metadata": {},
     "output_type": "execute_result"
    },
    {
     "data": {
      "image/png": "[encoded data removed]",
      "text/plain": [
       "<Figure size 1080x288 with 1 Axes>"
      ]
     },
     "metadata": {
      "needs_background": "light"
     },
     "output_type": "display_data"
    }
   ],
   "source": [
    "plt.figure(figsize=(15,4))\n",
    "(sns.lineplot(x=cropped.index, y=\"Close\", data=cropped).set_title(\"BitCoin Closing Prices\"))"
   ]
  },
  {
   "cell_type": "markdown",
   "id": "aef567b4-8320-467b-a5a3-1e2b0b0e0020",
   "metadata": {},
   "source": [
    "## 3. Initialize preprocessor object"
   ]
  },
  {
   "cell_type": "code",
   "execution_count": 6,
   "id": "a021ce8b-00fc-4443-afce-b89ba8a5101d",
   "metadata": {
    "tags": []
   },
   "outputs": [],
   "source": [
    "# our custom preprocessor class\n",
    "dprep = DataPreprocessors(data=bit_close)"
   ]
  },
  {
   "cell_type": "markdown",
   "id": "d211b6c2-4bcf-42bf-9312-93fbe703dd36",
   "metadata": {},
   "source": [
    "## 4. Prepare time series data"
   ]
  },
  {
   "cell_type": "code",
   "execution_count": 7,
   "id": "7d9cc6e4-025d-46f7-b640-cc8d348c5212",
   "metadata": {},
   "outputs": [],
   "source": [
    "series_data = dprep.original_data.iloc[:,0] # we need a pandas series for the function\n",
    "n_lag = 30 # aka the timestep\n",
    "historical_all,target_all = dprep.create_timeseries_sequences(data=series_data,\n",
    "                                                              timestep=n_lag)"
   ]
  },
  {
   "cell_type": "markdown",
   "id": "96ae7929-0939-4af6-93cd-b96f0773fb87",
   "metadata": {},
   "source": [
    "## 5. Train test split"
   ]
  },
  {
   "cell_type": "code",
   "execution_count": 8,
   "id": "34db3f15-8e57-42bf-b970-23a13b0daf57",
   "metadata": {},
   "outputs": [
    {
     "name": "stdout",
     "output_type": "stream",
     "text": [
      "(2144335, 30)\n",
      "(2144335,)\n"
     ]
    }
   ],
   "source": [
    "print(historical_all.shape)\n",
    "print(target_all.shape)"
   ]
  },
  {
   "cell_type": "markdown",
   "id": "a7928a95-f927-47b3-b134-8e9d1ff54a38",
   "metadata": {},
   "source": [
    "Funky way of doing this, but essentially we are creating train/test datasets, then using the training set to further create train/validate datasets. This leads to **three** datasets: training (for training/tuning); validation (for tuning and assessing performance (while training) on data that \"haven't been seen\"; testing (for final validation).\n",
    "\n",
    "If you play around with this, careful not to make the training set too small. Validation and testing can be smaller, but also shouldn't be too small. Read up on this, or experiment."
   ]
  },
  {
   "cell_type": "code",
   "execution_count": 9,
   "id": "f60326a5-4b89-4a5a-ae3f-8d6a8a6b1216",
   "metadata": {},
   "outputs": [
    {
     "name": "stdout",
     "output_type": "stream",
     "text": [
      "Training set has shape (2101448, 30)\n",
      "Test set has shape (42887, 30)\n",
      "(2101448, 30)\n",
      "(42887, 30)\n",
      "(2101448,)\n",
      "(42887,)\n"
     ]
    }
   ],
   "source": [
    "historical_train, historical_test, target_train, target_test = (dprep\n",
    "                                                                .train_test_split(historical=historical_all, \n",
    "                                                                                  target=target_all, \n",
    "                                                                                  prop_train=.98,\n",
    "                                                                                  valid_set=False))\n",
    "print(historical_train.shape)\n",
    "print(historical_test.shape)\n",
    "print(target_train.shape)\n",
    "print(target_test.shape)"
   ]
  },
  {
   "cell_type": "code",
   "execution_count": 10,
   "id": "561aab78-ee52-4231-a06f-e842ee651ad3",
   "metadata": {},
   "outputs": [
    {
     "name": "stdout",
     "output_type": "stream",
     "text": [
      "Training set has shape (1576086, 30)\n",
      "Validation set has shape (525362, 30)\n"
     ]
    }
   ],
   "source": [
    "historical_train, historical_val, target_train, target_val = (dprep\n",
    "                                                                .train_test_split(historical=historical_train, \n",
    "                                                                                  target=target_train, \n",
    "                                                                                  prop_train=.75,\n",
    "                                                                                  valid_set=True))"
   ]
  },
  {
   "cell_type": "markdown",
   "id": "edfbfe57-30d4-4592-bc06-d7a5e55069e4",
   "metadata": {},
   "source": [
    "## 6. Normalize the data"
   ]
  },
  {
   "cell_type": "markdown",
   "id": "546e56e4-c801-4c5e-8ac2-92fb3a7bd1e3",
   "metadata": {},
   "source": [
    "I added a `normalize_data` method. Look at it closely and make sure you understand what's going on. Important: Remember that you don't want to mix information from the training into/from validation/testing data. Scaling data technically gathers information about the data that's being scaled so there's a proper way of doing this:\n",
    "\n",
    "- Gather information from the training data needed for scaling, and transform it\n",
    "- Use that information to also transform the validation/testing data\n",
    "- Note: We're not gathering information from validation/testing data\n",
    "\n",
    "The transformers we use from `scikit-learn` offer intuitive methods to do this: \n",
    "- `fit_transform()` for the training data\n",
    "- `transform()` for validation/testing data\n",
    "\n",
    "Make sure you see how this mechanism is working within the `normalize_data` method I wrote, and how it's being used in the cell below."
   ]
  },
  {
   "cell_type": "code",
   "execution_count": 20,
   "id": "47ea636d-2668-45ed-ba56-769555c0f672",
   "metadata": {},
   "outputs": [],
   "source": [
    "# Use the historical training set to create the scaler and normalize the data to be between 0 and 1\n",
    "historical_train, scaler_ = dprep.normalize_data(historical_train, train = True)\n",
    "# Normalize the validation set and the testing set\n",
    "historical_val, _ = dprep.normalize_data(historical_val, scaler_)\n",
    "historical_test, _ = dprep.normalize_data(historical_test, scaler_) "
   ]
  },
  {
   "cell_type": "markdown",
   "id": "2147770e-d716-4d40-a2c1-e9eef109eafb",
   "metadata": {},
   "source": [
    "# Data Modeling"
   ]
  },
  {
   "cell_type": "markdown",
   "id": "c87bf9d4-0d60-45de-8f76-21c14a65c2e8",
   "metadata": {},
   "source": [
    "## 1. Create dataloaders for training and test sets"
   ]
  },
  {
   "cell_type": "markdown",
   "id": "24c284b2-cca5-4304-ae77-9f5423fe71c0",
   "metadata": {},
   "source": [
    "One good practice when using PyTorch is to make use of their `DataLoader` class object. Read about it [here](https://www.geeksforgeeks.org/how-to-use-a-dataloader-in-pytorch/), but simply put...it's a custom class that organizes the data input we feed to torch models, and makes working with big data much more efficient in terms of time and memory.\n",
    "\n",
    "`params` is a dictionary that holds parameters used by the DataLoader object. I've added one (which is simply the default value as an example), but take a look [here](https://pytorch.org/docs/stable/data.html) to see a list of options that you can play around with. Get curious!\n",
    "\n",
    "Follow the trail and see how these parameters impact how PyTorch works with the data/model."
   ]
  },
  {
   "cell_type": "code",
   "execution_count": 34,
   "id": "934ad879-0688-45ce-bc32-d53144f5f501",
   "metadata": {},
   "outputs": [],
   "source": [
    "# Play around with these params\n",
    "params = {'batch_size':5}"
   ]
  },
  {
   "cell_type": "code",
   "execution_count": 35,
   "id": "46232e38-6f90-4a0a-b4b3-f180077dc0d8",
   "metadata": {},
   "outputs": [],
   "source": [
    "training_generator = getDataLoader(historical_train, target_train, params)\n",
    "test_generator = getDataLoader(historical_val, target_val, params)"
   ]
  },
  {
   "cell_type": "markdown",
   "id": "07aee47f-ae9b-4ef4-b019-8ba92811a957",
   "metadata": {},
   "source": [
    "## 2. Initialize the model"
   ]
  },
  {
   "cell_type": "code",
   "execution_count": 41,
   "id": "3a229bce-10bd-4ec3-82fe-eb614446ebec",
   "metadata": {},
   "outputs": [],
   "source": [
    "hidden_layer_size = 100\n",
    "n_layers = 1\n",
    "output_size = 1\n",
    "dropout = 0 #default\n",
    "device = \"cpu\" #only option, unless you have a fancy GPU\n",
    "\n",
    "model = LSTM(input_size = n_lag, \n",
    "             hidden_layer_size = hidden_layer_size, \n",
    "             output_size = output_size,\n",
    "             n_layers = n_layers,\n",
    "             do = dropout).to(device)"
   ]
  },
  {
   "cell_type": "markdown",
   "id": "7b1f04a0-3377-44f8-8800-f63d1aee0335",
   "metadata": {},
   "source": [
    "## 3. Define the loss function and optimizer"
   ]
  },
  {
   "cell_type": "markdown",
   "id": "6f975d1c-e2de-4f0e-bbaa-26d1350e0f4c",
   "metadata": {},
   "source": [
    "There are DOZENS of hyperparameters that we can tune in neural networks. Play around with these and try to see how they impact performance."
   ]
  },
  {
   "cell_type": "code",
   "execution_count": 42,
   "id": "ff012766-0cc4-4261-a365-478e14c4adfa",
   "metadata": {},
   "outputs": [],
   "source": [
    "# hyperparameters\n",
    "learning_rate = 1e-3\n",
    "n_epochs = 200"
   ]
  },
  {
   "cell_type": "code",
   "execution_count": 43,
   "id": "44bcfb6d-7751-4651-a08a-985696e461b4",
   "metadata": {},
   "outputs": [],
   "source": [
    "# using the mean squred error loss function. \n",
    "loss_fn = nn.MSELoss()\n",
    "# \n",
    "optim = torch.optim.Adam(model.parameters(), lr=learning_rate)"
   ]
  },
  {
   "cell_type": "markdown",
   "id": "e6b78362-da47-4b42-a138-a0b1e7d7151a",
   "metadata": {},
   "source": [
    "## 4. Train the model\n",
    "\n",
    "Note that what we're collecting in the lists below aren't the MSE values, but calculated RMSE values instead. Make sure you read about these two and how they are related. Just note that we're using MSE as the loss function, but simply collection RMSE for reporting purposes. Why? Because compared to MSE, RMSE is *in the same scale as the raw data*. Thus, you can interpret error in terms of dollar amounts."
   ]
  },
  {
   "cell_type": "code",
   "execution_count": 46,
   "id": "083c5fba-679a-4ecd-b54f-f77b96a91a14",
   "metadata": {},
   "outputs": [],
   "source": [
    "# Track the losses across epochs\n",
    "train_losses = []\n",
    "valid_losses = []"
   ]
  },
  {
   "cell_type": "code",
   "execution_count": 45,
   "id": "c1cb2c3a-eed3-47e4-89d3-7d67a2fb228e",
   "metadata": {},
   "outputs": [
    {
     "ename": "RuntimeError",
     "evalue": "Expected hidden[0] size (1, 5, 100), got [1, 1, 100]",
     "output_type": "error",
     "traceback": [
      "\u001b[1;31m---------------------------------------------------------------------------\u001b[0m",
      "\u001b[1;31mRuntimeError\u001b[0m                              Traceback (most recent call last)",
      "File \u001b[1;32m<timed exec>:13\u001b[0m, in \u001b[0;36m<module>\u001b[1;34m\u001b[0m\n",
      "File \u001b[1;32m~\\AppData\\Local\\Packages\\PythonSoftwareFoundation.Python.3.9_qbz5n2kfra8p0\\LocalCache\\local-packages\\Python39\\site-packages\\torch\\nn\\modules\\module.py:1110\u001b[0m, in \u001b[0;36mModule._call_impl\u001b[1;34m(self, *input, **kwargs)\u001b[0m\n\u001b[0;32m   1106\u001b[0m \u001b[38;5;66;03m# If we don't have any hooks, we want to skip the rest of the logic in\u001b[39;00m\n\u001b[0;32m   1107\u001b[0m \u001b[38;5;66;03m# this function, and just call forward.\u001b[39;00m\n\u001b[0;32m   1108\u001b[0m \u001b[38;5;28;01mif\u001b[39;00m \u001b[38;5;129;01mnot\u001b[39;00m (\u001b[38;5;28mself\u001b[39m\u001b[38;5;241m.\u001b[39m_backward_hooks \u001b[38;5;129;01mor\u001b[39;00m \u001b[38;5;28mself\u001b[39m\u001b[38;5;241m.\u001b[39m_forward_hooks \u001b[38;5;129;01mor\u001b[39;00m \u001b[38;5;28mself\u001b[39m\u001b[38;5;241m.\u001b[39m_forward_pre_hooks \u001b[38;5;129;01mor\u001b[39;00m _global_backward_hooks\n\u001b[0;32m   1109\u001b[0m         \u001b[38;5;129;01mor\u001b[39;00m _global_forward_hooks \u001b[38;5;129;01mor\u001b[39;00m _global_forward_pre_hooks):\n\u001b[1;32m-> 1110\u001b[0m     \u001b[38;5;28;01mreturn\u001b[39;00m forward_call(\u001b[38;5;241m*\u001b[39m\u001b[38;5;28minput\u001b[39m, \u001b[38;5;241m*\u001b[39m\u001b[38;5;241m*\u001b[39mkwargs)\n\u001b[0;32m   1111\u001b[0m \u001b[38;5;66;03m# Do not call functions when jit is used\u001b[39;00m\n\u001b[0;32m   1112\u001b[0m full_backward_hooks, non_full_backward_hooks \u001b[38;5;241m=\u001b[39m [], []\n",
      "File \u001b[1;32m~\\OiT-Project\\oit_helpers.py:166\u001b[0m, in \u001b[0;36mLSTM.forward\u001b[1;34m(self, input_seq)\u001b[0m\n\u001b[0;32m    161\u001b[0m \u001b[38;5;66;03m#lstm_out, self.hidden_cell = self.lstm(input_seq.view(len(input_seq) ,1, -1), self.hidden_cell)\u001b[39;00m\n\u001b[0;32m    162\u001b[0m \u001b[38;5;66;03m#predictions = self.linear(lstm_out.view(len(input_seq), -1))\u001b[39;00m\n\u001b[0;32m    163\u001b[0m \u001b[38;5;66;03m#return predictions[-1]\u001b[39;00m\n\u001b[0;32m    165\u001b[0m bs \u001b[38;5;241m=\u001b[39m input_seq\u001b[38;5;241m.\u001b[39mshape[\u001b[38;5;241m1\u001b[39m]\n\u001b[1;32m--> 166\u001b[0m out, _ \u001b[38;5;241m=\u001b[39m \u001b[38;5;28;43mself\u001b[39;49m\u001b[38;5;241;43m.\u001b[39;49m\u001b[43mlstm\u001b[49m\u001b[43m(\u001b[49m\u001b[43minput_seq\u001b[49m\u001b[43m,\u001b[49m\u001b[43m \u001b[49m\u001b[38;5;28;43mself\u001b[39;49m\u001b[38;5;241;43m.\u001b[39;49m\u001b[43mhidden_cell\u001b[49m\u001b[43m)\u001b[49m\n\u001b[0;32m    167\u001b[0m out \u001b[38;5;241m=\u001b[39m out\u001b[38;5;241m.\u001b[39mcontiguous()\u001b[38;5;241m.\u001b[39mview(\u001b[38;5;241m-\u001b[39m\u001b[38;5;241m1\u001b[39m, \u001b[38;5;28mself\u001b[39m\u001b[38;5;241m.\u001b[39mhidden_layer_size)\n\u001b[0;32m    168\u001b[0m out \u001b[38;5;241m=\u001b[39m \u001b[38;5;28mself\u001b[39m\u001b[38;5;241m.\u001b[39mlinear(out)\n",
      "File \u001b[1;32m~\\AppData\\Local\\Packages\\PythonSoftwareFoundation.Python.3.9_qbz5n2kfra8p0\\LocalCache\\local-packages\\Python39\\site-packages\\torch\\nn\\modules\\module.py:1110\u001b[0m, in \u001b[0;36mModule._call_impl\u001b[1;34m(self, *input, **kwargs)\u001b[0m\n\u001b[0;32m   1106\u001b[0m \u001b[38;5;66;03m# If we don't have any hooks, we want to skip the rest of the logic in\u001b[39;00m\n\u001b[0;32m   1107\u001b[0m \u001b[38;5;66;03m# this function, and just call forward.\u001b[39;00m\n\u001b[0;32m   1108\u001b[0m \u001b[38;5;28;01mif\u001b[39;00m \u001b[38;5;129;01mnot\u001b[39;00m (\u001b[38;5;28mself\u001b[39m\u001b[38;5;241m.\u001b[39m_backward_hooks \u001b[38;5;129;01mor\u001b[39;00m \u001b[38;5;28mself\u001b[39m\u001b[38;5;241m.\u001b[39m_forward_hooks \u001b[38;5;129;01mor\u001b[39;00m \u001b[38;5;28mself\u001b[39m\u001b[38;5;241m.\u001b[39m_forward_pre_hooks \u001b[38;5;129;01mor\u001b[39;00m _global_backward_hooks\n\u001b[0;32m   1109\u001b[0m         \u001b[38;5;129;01mor\u001b[39;00m _global_forward_hooks \u001b[38;5;129;01mor\u001b[39;00m _global_forward_pre_hooks):\n\u001b[1;32m-> 1110\u001b[0m     \u001b[38;5;28;01mreturn\u001b[39;00m forward_call(\u001b[38;5;241m*\u001b[39m\u001b[38;5;28minput\u001b[39m, \u001b[38;5;241m*\u001b[39m\u001b[38;5;241m*\u001b[39mkwargs)\n\u001b[0;32m   1111\u001b[0m \u001b[38;5;66;03m# Do not call functions when jit is used\u001b[39;00m\n\u001b[0;32m   1112\u001b[0m full_backward_hooks, non_full_backward_hooks \u001b[38;5;241m=\u001b[39m [], []\n",
      "File \u001b[1;32m~\\AppData\\Local\\Packages\\PythonSoftwareFoundation.Python.3.9_qbz5n2kfra8p0\\LocalCache\\local-packages\\Python39\\site-packages\\torch\\nn\\modules\\rnn.py:759\u001b[0m, in \u001b[0;36mLSTM.forward\u001b[1;34m(self, input, hx)\u001b[0m\n\u001b[0;32m    755\u001b[0m     \u001b[38;5;66;03m# Each batch of the hidden state should match the input sequence that\u001b[39;00m\n\u001b[0;32m    756\u001b[0m     \u001b[38;5;66;03m# the user believes he/she is passing in.\u001b[39;00m\n\u001b[0;32m    757\u001b[0m     hx \u001b[38;5;241m=\u001b[39m \u001b[38;5;28mself\u001b[39m\u001b[38;5;241m.\u001b[39mpermute_hidden(hx, sorted_indices)\n\u001b[1;32m--> 759\u001b[0m \u001b[38;5;28;43mself\u001b[39;49m\u001b[38;5;241;43m.\u001b[39;49m\u001b[43mcheck_forward_args\u001b[49m\u001b[43m(\u001b[49m\u001b[38;5;28;43minput\u001b[39;49m\u001b[43m,\u001b[49m\u001b[43m \u001b[49m\u001b[43mhx\u001b[49m\u001b[43m,\u001b[49m\u001b[43m \u001b[49m\u001b[43mbatch_sizes\u001b[49m\u001b[43m)\u001b[49m\n\u001b[0;32m    760\u001b[0m \u001b[38;5;28;01mif\u001b[39;00m batch_sizes \u001b[38;5;129;01mis\u001b[39;00m \u001b[38;5;28;01mNone\u001b[39;00m:\n\u001b[0;32m    761\u001b[0m     result \u001b[38;5;241m=\u001b[39m _VF\u001b[38;5;241m.\u001b[39mlstm(\u001b[38;5;28minput\u001b[39m, hx, \u001b[38;5;28mself\u001b[39m\u001b[38;5;241m.\u001b[39m_flat_weights, \u001b[38;5;28mself\u001b[39m\u001b[38;5;241m.\u001b[39mbias, \u001b[38;5;28mself\u001b[39m\u001b[38;5;241m.\u001b[39mnum_layers,\n\u001b[0;32m    762\u001b[0m                       \u001b[38;5;28mself\u001b[39m\u001b[38;5;241m.\u001b[39mdropout, \u001b[38;5;28mself\u001b[39m\u001b[38;5;241m.\u001b[39mtraining, \u001b[38;5;28mself\u001b[39m\u001b[38;5;241m.\u001b[39mbidirectional, \u001b[38;5;28mself\u001b[39m\u001b[38;5;241m.\u001b[39mbatch_first)\n",
      "File \u001b[1;32m~\\AppData\\Local\\Packages\\PythonSoftwareFoundation.Python.3.9_qbz5n2kfra8p0\\LocalCache\\local-packages\\Python39\\site-packages\\torch\\nn\\modules\\rnn.py:685\u001b[0m, in \u001b[0;36mLSTM.check_forward_args\u001b[1;34m(self, input, hidden, batch_sizes)\u001b[0m\n\u001b[0;32m    679\u001b[0m \u001b[38;5;28;01mdef\u001b[39;00m \u001b[38;5;21mcheck_forward_args\u001b[39m(\u001b[38;5;28mself\u001b[39m,  \u001b[38;5;66;03m# type: ignore[override]\u001b[39;00m\n\u001b[0;32m    680\u001b[0m                        \u001b[38;5;28minput\u001b[39m: Tensor,\n\u001b[0;32m    681\u001b[0m                        hidden: Tuple[Tensor, Tensor],\n\u001b[0;32m    682\u001b[0m                        batch_sizes: Optional[Tensor],\n\u001b[0;32m    683\u001b[0m                        ):\n\u001b[0;32m    684\u001b[0m     \u001b[38;5;28mself\u001b[39m\u001b[38;5;241m.\u001b[39mcheck_input(\u001b[38;5;28minput\u001b[39m, batch_sizes)\n\u001b[1;32m--> 685\u001b[0m     \u001b[38;5;28;43mself\u001b[39;49m\u001b[38;5;241;43m.\u001b[39;49m\u001b[43mcheck_hidden_size\u001b[49m\u001b[43m(\u001b[49m\u001b[43mhidden\u001b[49m\u001b[43m[\u001b[49m\u001b[38;5;241;43m0\u001b[39;49m\u001b[43m]\u001b[49m\u001b[43m,\u001b[49m\u001b[43m \u001b[49m\u001b[38;5;28;43mself\u001b[39;49m\u001b[38;5;241;43m.\u001b[39;49m\u001b[43mget_expected_hidden_size\u001b[49m\u001b[43m(\u001b[49m\u001b[38;5;28;43minput\u001b[39;49m\u001b[43m,\u001b[49m\u001b[43m \u001b[49m\u001b[43mbatch_sizes\u001b[49m\u001b[43m)\u001b[49m\u001b[43m,\u001b[49m\n\u001b[0;32m    686\u001b[0m \u001b[43m                           \u001b[49m\u001b[38;5;124;43m'\u001b[39;49m\u001b[38;5;124;43mExpected hidden[0] size \u001b[39;49m\u001b[38;5;132;43;01m{}\u001b[39;49;00m\u001b[38;5;124;43m, got \u001b[39;49m\u001b[38;5;132;43;01m{}\u001b[39;49;00m\u001b[38;5;124;43m'\u001b[39;49m\u001b[43m)\u001b[49m\n\u001b[0;32m    687\u001b[0m     \u001b[38;5;28mself\u001b[39m\u001b[38;5;241m.\u001b[39mcheck_hidden_size(hidden[\u001b[38;5;241m1\u001b[39m], \u001b[38;5;28mself\u001b[39m\u001b[38;5;241m.\u001b[39mget_expected_cell_size(\u001b[38;5;28minput\u001b[39m, batch_sizes),\n\u001b[0;32m    688\u001b[0m                            \u001b[38;5;124m'\u001b[39m\u001b[38;5;124mExpected hidden[1] size \u001b[39m\u001b[38;5;132;01m{}\u001b[39;00m\u001b[38;5;124m, got \u001b[39m\u001b[38;5;132;01m{}\u001b[39;00m\u001b[38;5;124m'\u001b[39m)\n",
      "File \u001b[1;32m~\\AppData\\Local\\Packages\\PythonSoftwareFoundation.Python.3.9_qbz5n2kfra8p0\\LocalCache\\local-packages\\Python39\\site-packages\\torch\\nn\\modules\\rnn.py:226\u001b[0m, in \u001b[0;36mRNNBase.check_hidden_size\u001b[1;34m(self, hx, expected_hidden_size, msg)\u001b[0m\n\u001b[0;32m    223\u001b[0m \u001b[38;5;28;01mdef\u001b[39;00m \u001b[38;5;21mcheck_hidden_size\u001b[39m(\u001b[38;5;28mself\u001b[39m, hx: Tensor, expected_hidden_size: Tuple[\u001b[38;5;28mint\u001b[39m, \u001b[38;5;28mint\u001b[39m, \u001b[38;5;28mint\u001b[39m],\n\u001b[0;32m    224\u001b[0m                       msg: \u001b[38;5;28mstr\u001b[39m \u001b[38;5;241m=\u001b[39m \u001b[38;5;124m'\u001b[39m\u001b[38;5;124mExpected hidden size \u001b[39m\u001b[38;5;132;01m{}\u001b[39;00m\u001b[38;5;124m, got \u001b[39m\u001b[38;5;132;01m{}\u001b[39;00m\u001b[38;5;124m'\u001b[39m) \u001b[38;5;241m-\u001b[39m\u001b[38;5;241m>\u001b[39m \u001b[38;5;28;01mNone\u001b[39;00m:\n\u001b[0;32m    225\u001b[0m     \u001b[38;5;28;01mif\u001b[39;00m hx\u001b[38;5;241m.\u001b[39msize() \u001b[38;5;241m!=\u001b[39m expected_hidden_size:\n\u001b[1;32m--> 226\u001b[0m         \u001b[38;5;28;01mraise\u001b[39;00m \u001b[38;5;167;01mRuntimeError\u001b[39;00m(msg\u001b[38;5;241m.\u001b[39mformat(expected_hidden_size, \u001b[38;5;28mlist\u001b[39m(hx\u001b[38;5;241m.\u001b[39msize())))\n",
      "\u001b[1;31mRuntimeError\u001b[0m: Expected hidden[0] size (1, 5, 100), got [1, 1, 100]"
     ]
    }
   ],
   "source": [
    "%%time\n",
    "# Training loop over epochs\n",
    "for epoch in range(1, n_epochs + 1):\n",
    "    # loss at the start of each epoch. Both training and validation starts at 0.\n",
    "    ls = 0\n",
    "    valid_ls = 0\n",
    "    # Train for one epoch\n",
    "    for xb, yb in training_generator:\n",
    "        # Perform the forward pass\n",
    "        # The pytorch.unsqueeze function adds a new dimension of size 1 to the tensor.\n",
    "        ips = xb.unsqueeze(0)\n",
    "        targs = yb\n",
    "        # feed the inputs into the model and get the outputs. We are doing a forward pass\n",
    "        op = model(ips)\n",
    "\n",
    "        # Backpropagate the errors through the network\n",
    "        optim.zero_grad()\n",
    "        loss = loss_fn(op, targs)\n",
    "        loss.backward()\n",
    "        # the next step in the optimization function\n",
    "        optim.step()\n",
    "        # the cost function, which is just the average of the loss of all the tensors\n",
    "        ls += (loss.item() / ips.shape[1])\n",
    "        \n",
    "    # Check the performance on validation data\n",
    "    for xb, yb in test_generator:\n",
    "        ips = xb.unsqueeze(0)\n",
    "        # use the predict method in the model using input\n",
    "        ops = model.predict(ips)\n",
    "        vls = loss_fn(ops, yb)\n",
    "        valid_ls += (vls.item() / xb.shape[1])\n",
    "\n",
    "    # Take the square root of the mean square error to see the loss in actual dollar amounts\n",
    "    rmse = lambda x: round(sqrt(x * 1.000), 3)\n",
    "    train_losses.append(str(rmse(ls)))\n",
    "    valid_losses.append(str(rmse(valid_ls)))\n",
    "\n",
    "    # Print the total loss for every tenth epoch\n",
    "    if (epoch % 10 == 0) or (epoch == 1):\n",
    "        print(f\"Epoch {str(epoch):<4}/{str(n_epochs):<4} | Train Loss: {train_losses[-1]:<8} | Validation Loss: {valid_losses[-1]:<8}\")"
   ]
  },
  {
   "cell_type": "markdown",
   "id": "2fda2c19-ef31-44dc-8de5-d742686e9c59",
   "metadata": {},
   "source": [
    "Notes for this week:\n",
    "    -Experiment with:\n",
    "        -batch size (speed? performance?)\n",
    "        -different loss functions\n",
    "        -different cryptocurrency data\n",
    "    -Make a graph visualizing the loss / accuracy of predictions.\n",
    "    -How to make train/test splits for time-series data\n",
    "        -Right now, the training data has never seen the big spikes near the end.\n",
    "        "
   ]
  },
  {
   "cell_type": "code",
   "execution_count": null,
   "id": "78b8296e-09cd-4b39-8fe9-b94b0024efa9",
   "metadata": {},
   "outputs": [],
   "source": []
  }
 ],
 "metadata": {
  "kernelspec": {
   "display_name": "Python 3 (ipykernel)",
   "language": "python",
   "name": "python3"
  },
  "language_info": {
   "codemirror_mode": {
    "name": "ipython",
    "version": 3
   },
   "file_extension": ".py",
   "mimetype": "text/x-python",
   "name": "python",
   "nbconvert_exporter": "python",
   "pygments_lexer": "ipython3",
   "version": "3.9.13"
  }
 },
 "nbformat": 4,
 "nbformat_minor": 5
}
