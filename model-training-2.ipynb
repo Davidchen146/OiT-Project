{
 "cells": [
  {
   "cell_type": "code",
   "execution_count": 1,
   "id": "8fc93f38-777d-4354-bbea-ea251a9799a8",
   "metadata": {},
   "outputs": [],
   "source": [
    "import os\n",
    "import math\n",
    "\n",
    "import numpy as np\n",
    "import pandas as pd\n",
    "import matplotlib.pyplot as plt\n",
    "import seaborn as sns\n",
    "import torch\n",
    "import torch.nn as nn\n",
    "from torch.utils.data import TensorDataset, DataLoader\n",
    "from sklearn.metrics import mean_squared_error\n",
    "\n",
    "from oit_helpers2 import DataPreprocessors,LSTM,createDataLoader,getDataLoader\n",
    "\n",
    "sns.set(style=\"darkgrid\", font_scale=1.5)\n",
    "%matplotlib inline"
   ]
  },
  {
   "cell_type": "markdown",
   "id": "9199f41e-7acc-4e4e-8e56-8a7570d4ba69",
   "metadata": {},
   "source": [
    "# Data Preprocessing"
   ]
  },
  {
   "cell_type": "code",
   "execution_count": 2,
   "id": "410b348d-b48b-4c26-9491-e37fe7391ea2",
   "metadata": {},
   "outputs": [
    {
     "data": {
      "text/plain": [
       "(3613769, 7)"
      ]
     },
     "execution_count": 2,
     "metadata": {},
     "output_type": "execute_result"
    }
   ],
   "source": [
    "data_location = './datasets/all-crypto-currencies/bitstampUSD_1-min_data_2012-01-01_to_2021-03-31.csv'\n",
    "data = (pd.read_csv(data_location,\n",
    "                    index_col=\"Timestamp\")\n",
    "        .dropna(subset=['Close']))\n",
    "data.index = pd.to_datetime(data.index, unit='s')\n",
    "data.shape"
   ]
  },
  {
   "cell_type": "markdown",
   "id": "232491e0-1c46-4459-ac4f-b3ee62c1fbe7",
   "metadata": {},
   "source": [
    "Counting the number of observations by year reveals that we have many recordings per day. Indeed, a look at the indices (timestamps) reveals that our data is measured on the minute. Since we're modeling closing price, we only want to keep the final recording of the day."
   ]
  },
  {
   "cell_type": "code",
   "execution_count": 3,
   "id": "599fc2ef-39e6-4868-926b-643b71b4979f",
   "metadata": {},
   "outputs": [
    {
     "name": "stdout",
     "output_type": "stream",
     "text": [
      "Obs per year Timestamp\n",
      "2011         4\n",
      "2012     26629\n",
      "2013    319761\n",
      "2014    398176\n",
      "2015    372735\n",
      "2016    352099\n",
      "2017    483332\n",
      "2018    505773\n",
      "2019    508340\n",
      "2020    518895\n",
      "2021    128025\n",
      "Name: Close, dtype: int64\n",
      "\n",
      "Sample of indices DatetimeIndex(['2012-01-10 09:57:00', '2012-01-10 09:58:00',\n",
      "               '2012-01-10 09:59:00', '2012-01-10 10:00:00',\n",
      "               '2012-01-10 10:42:00'],\n",
      "              dtype='datetime64[ns]', name='Timestamp', freq=None)\n"
     ]
    }
   ],
   "source": [
    "# How many data points per year\n",
    "print('Obs per year',(data\n",
    "                      .Close\n",
    "                      .groupby(data.index.year)\n",
    "                      .count()))\n",
    "\n",
    "print('\\nSample of indices',data.index[100:105])"
   ]
  },
  {
   "cell_type": "code",
   "execution_count": 4,
   "id": "d86725dd-3f0d-404a-b41e-09d603c38c24",
   "metadata": {},
   "outputs": [
    {
     "data": {
      "text/plain": [
       "(3376,)"
      ]
     },
     "execution_count": 4,
     "metadata": {},
     "output_type": "execute_result"
    }
   ],
   "source": [
    "# Take last daily recording as Closing cost\n",
    "data = (data\n",
    "        .groupby(data.index.date)\n",
    "        .Close\n",
    "        .last())\n",
    "data.index = pd.to_datetime(data.index)\n",
    "data.shape"
   ]
  },
  {
   "cell_type": "markdown",
   "id": "178c9e02-0fe9-444e-a5e2-22d831bb470a",
   "metadata": {},
   "source": [
    "After keeping the final recording of the day, the number of observations per year are closer to what we'd expect."
   ]
  },
  {
   "cell_type": "code",
   "execution_count": 5,
   "id": "d511ab7c-2a5a-41ed-be13-49c8894dc5ee",
   "metadata": {},
   "outputs": [
    {
     "data": {
      "text/plain": [
       "2011      1\n",
       "2012    366\n",
       "2013    365\n",
       "2014    365\n",
       "2015    362\n",
       "2016    366\n",
       "2017    365\n",
       "2018    365\n",
       "2019    365\n",
       "2020    366\n",
       "2021     90\n",
       "Name: Close, dtype: int64"
      ]
     },
     "execution_count": 5,
     "metadata": {},
     "output_type": "execute_result"
    }
   ],
   "source": [
    "# How many data points per year\n",
    "(data\n",
    " .groupby(data.index.year)\n",
    " .count())"
   ]
  },
  {
   "cell_type": "markdown",
   "id": "3329618e-b6f6-4785-83f6-8799772b42e1",
   "metadata": {},
   "source": [
    "It seems that closing price was fairly low and flat for the first ~5 years of data as is obvious by the long tail. The time series shows much more dynamic behavior starting in 2017 when Bitcoin prices started rising. Beginning in 2020, the closing price exploded. To remove \"noise\", we will drop information from the long tail, which is uncharacteristic of current Bitcoin behavior."
   ]
  },
  {
   "cell_type": "code",
   "execution_count": 6,
   "id": "8555e747-43fa-41eb-9627-975cf5e69e49",
   "metadata": {},
   "outputs": [
    {
     "data": {
      "image/png": "[encoded data removed]",
      "text/plain": [
       "<Figure size 864x288 with 1 Axes>"
      ]
     },
     "metadata": {
      "needs_background": "light"
     },
     "output_type": "display_data"
    }
   ],
   "source": [
    "data.plot(figsize=(12, 4))\n",
    "plt.ylabel(\"closing price\")\n",
    "plt.title(\"Bitcoin\")\n",
    "plt.show()"
   ]
  },
  {
   "cell_type": "markdown",
   "id": "3505becb-ad9e-4ff4-9ff5-7cb4ab60448d",
   "metadata": {},
   "source": [
    "## Load preprocessor object for further data preprocessing"
   ]
  },
  {
   "cell_type": "code",
   "execution_count": 7,
   "id": "6a09385e-fe17-41d9-86e7-20c76398c9c9",
   "metadata": {},
   "outputs": [],
   "source": [
    "# our custom preprocessor class\n",
    "dprep = DataPreprocessors(data=pd.DataFrame(data))"
   ]
  },
  {
   "cell_type": "markdown",
   "id": "4b2e405e-19ba-4915-b05d-3c2723e5928a",
   "metadata": {},
   "source": [
    "Data before 2017 is dropped, and we ensure that we have at least one recording per day. If not (i.e., if we have missing data), we use a fill forward approach where the last non-missing value in the series is used to impute the missing price.\n",
    "\n",
    "This leaves us with 1551 Bitcoin closing prices ranging from 2017-01-01 to 2021-03-31."
   ]
  },
  {
   "cell_type": "code",
   "execution_count": 8,
   "id": "2536c7c9-88d1-4f57-b57c-6b39a74a0e06",
   "metadata": {},
   "outputs": [
    {
     "name": "stdout",
     "output_type": "stream",
     "text": [
      "Results in 0 missing elements\n"
     ]
    },
    {
     "data": {
      "text/plain": [
       "(1551, 1)"
      ]
     },
     "execution_count": 8,
     "metadata": {},
     "output_type": "execute_result"
    }
   ],
   "source": [
    "df_bc = dprep.ensure_equal_timeseries(min_date='2017-01-01',\n",
    "                                      max_date='2021-03-31')\n",
    "df_bc.shape"
   ]
  },
  {
   "cell_type": "code",
   "execution_count": 9,
   "id": "9b1965a1-a1fe-4cc1-b67d-6da666e1276d",
   "metadata": {},
   "outputs": [
    {
     "data": {
      "image/png": "[encoded data removed]",
      "text/plain": [
       "<Figure size 864x288 with 1 Axes>"
      ]
     },
     "metadata": {
      "needs_background": "light"
     },
     "output_type": "display_data"
    }
   ],
   "source": [
    "df_bc[['Close']].plot(figsize=(12, 4))\n",
    "plt.ylabel(\"closing price\")\n",
    "plt.title(\"Bitcoin\")\n",
    "plt.show()"
   ]
  },
  {
   "cell_type": "markdown",
   "id": "21895815-d39c-4d04-9387-fcb902222d61",
   "metadata": {},
   "source": [
    "## Prepare lagged dataset\n",
    "\n",
    "To forecast Bitcoin prices, we will first create a new dataset in which we used lagged values to predict the next price in the series. That is, given the 1551 closing price data points, we will choose a timestep or lag value `n_lags` that defines the number of consecutive time points we will use to predict the next value. This \"window\" of length `n_lags` is then slide one unit across, and the next value in the series becomes the new target of prediction."
   ]
  },
  {
   "cell_type": "code",
   "execution_count": 10,
   "id": "4337f362-76b6-4b6a-8be6-1a92ecad11a2",
   "metadata": {},
   "outputs": [],
   "source": [
    "n_lags = 7+1\n",
    "lagged_data = dprep.create_timeseries_sequences(data=df_bc, \n",
    "                                                timestep=n_lags)"
   ]
  },
  {
   "cell_type": "markdown",
   "id": "faf5c124-b15f-490f-b8ba-0c2a64d7249a",
   "metadata": {},
   "source": [
    "## Train test split\n",
    "\n",
    "For brevity, we only use a train/test split and omit a validation set for now. \n",
    "\n",
    "For the historical data `x`, the first dimension (\"rows\") represents the sequences of length `n_lags`, and the second dimension (\"columns\") correspond to each of the `n_lags` measurements.\n",
    "\n",
    "For the target data `y`, the first dimension (\"rows\") represents the measurements that are predicted from the associated sequences or \"rows\" in `x`. Within a training/test set, the first dimension should match."
   ]
  },
  {
   "cell_type": "code",
   "execution_count": 11,
   "id": "566be554-8dea-41dd-9475-41ad8ab50cba",
   "metadata": {},
   "outputs": [
    {
     "name": "stdout",
     "output_type": "stream",
     "text": [
      "x_train.shape =  (1389, 7, 1)\n",
      "y_train.shape =  (1389, 1)\n",
      "x_test.shape =  (154, 7, 1)\n",
      "y_test.shape =  (154, 1)\n"
     ]
    }
   ],
   "source": [
    "x_train, y_train, x_test, y_test = dprep.train_test_split(lagged_data=lagged_data,\n",
    "                                                          prop_test=.1)"
   ]
  },
  {
   "cell_type": "markdown",
   "id": "d72fbe98-8288-4a7b-9d16-5182a291dac2",
   "metadata": {},
   "source": [
    "To speed up and improve training, we normalize the data using the MinMax approach with min/max values of -1 and 1, respectively. Importantly, we only use the training data when initializing the scaler--test data is only transformed using the scaler object from the training data."
   ]
  },
  {
   "cell_type": "code",
   "execution_count": 12,
   "id": "7591f894-5096-496b-a420-4933ca017695",
   "metadata": {},
   "outputs": [],
   "source": [
    "# Scaler expects 2D, so we remove (squeeze) the last dimension for the moment\n",
    "x_train, scaler_ = dprep.normalize_data(x_train.squeeze(2), train = True)\n",
    "y_train, scaler__ = dprep.normalize_data(y_train, train=True)\n",
    "\n",
    "# Only transform the test data\n",
    "x_test, _ = dprep.normalize_data(x_test.squeeze(2), scaler_)\n",
    "y_test, _ = dprep.normalize_data(y_test, scaler__)"
   ]
  },
  {
   "cell_type": "code",
   "execution_count": 13,
   "id": "af11e764-158d-4cf0-abb0-2617de8a7ceb",
   "metadata": {},
   "outputs": [],
   "source": [
    "# Add the third dimension back in as expected by LSTM model\n",
    "x_train = np.expand_dims(x_train,axis=2)\n",
    "x_test = np.expand_dims(x_test,axis=2)"
   ]
  },
  {
   "cell_type": "code",
   "execution_count": 14,
   "id": "3d8e2ada-b15a-4e1c-b049-372782dae2f9",
   "metadata": {},
   "outputs": [],
   "source": [
    "# Convert to tensors as required by PyTorch\n",
    "x_train = torch.from_numpy(x_train).type(torch.Tensor)\n",
    "x_test = torch.from_numpy(x_test).type(torch.Tensor)\n",
    "y_train = torch.from_numpy(y_train).type(torch.Tensor)\n",
    "y_test = torch.from_numpy(y_test).type(torch.Tensor)"
   ]
  },
  {
   "cell_type": "markdown",
   "id": "bdf9caf8-68ae-4936-a473-51cc11876d2d",
   "metadata": {},
   "source": [
    "## Train the LSTM"
   ]
  },
  {
   "cell_type": "markdown",
   "id": "d6b8bfa4-ec21-4758-b370-b0b1c262ddba",
   "metadata": {},
   "source": [
    "### Initialize model, define hyperparameters, loss function and optimization alogrithm"
   ]
  },
  {
   "cell_type": "markdown",
   "id": "ef02ea46-6dfd-4c2f-9fb2-41490e5ea47a",
   "metadata": {},
   "source": [
    "Setting preliminary values, but different values should be explored."
   ]
  },
  {
   "cell_type": "code",
   "execution_count": 15,
   "id": "c302e2c7-b5fb-4ae1-bc4c-cfac45ba384c",
   "metadata": {},
   "outputs": [],
   "source": [
    "# Set hyperparameters\n",
    "#####################\n",
    "\n",
    "hidden_layer_size = 100\n",
    "n_layers = 2\n",
    "learning_rate = 0.01\n",
    "n_epochs = 200\n",
    "do = 0"
   ]
  },
  {
   "cell_type": "code",
   "execution_count": 16,
   "id": "b5401003-f86d-4e1b-9f2f-bae1b8caa7b8",
   "metadata": {},
   "outputs": [
    {
     "name": "stdout",
     "output_type": "stream",
     "text": [
      "LSTM(\n",
      "  (lstm): LSTM(1, 100, num_layers=2, batch_first=True)\n",
      "  (linear): Linear(in_features=100, out_features=1, bias=True)\n",
      ")\n",
      "10\n",
      "torch.Size([400, 1])\n",
      "torch.Size([400, 100])\n",
      "torch.Size([400])\n",
      "torch.Size([400])\n",
      "torch.Size([400, 100])\n",
      "torch.Size([400, 100])\n",
      "torch.Size([400])\n",
      "torch.Size([400])\n",
      "torch.Size([1, 100])\n",
      "torch.Size([1])\n"
     ]
    }
   ],
   "source": [
    "# Build model\n",
    "#####################\n",
    "\n",
    "input_size = 1\n",
    "output_size = 1\n",
    "\n",
    "model = LSTM(input_size=input_size, \n",
    "               hidden_layer_size=hidden_layer_size, \n",
    "               n_layers=n_layers, \n",
    "               output_size=output_size)\n",
    "\n",
    "print(model)\n",
    "print(len(list(model.parameters())))\n",
    "for i in range(len(list(model.parameters()))):\n",
    "    print(list(model.parameters())[i].size())"
   ]
  },
  {
   "cell_type": "code",
   "execution_count": 17,
   "id": "cda04706-8626-45ec-83e4-1bb863910d4a",
   "metadata": {},
   "outputs": [],
   "source": [
    "# Loss function and optimization algorithm\n",
    "#####################\n",
    "\n",
    "loss_fn = torch.nn.MSELoss()\n",
    "optimiser = torch.optim.Adam(model.parameters(), \n",
    "                             lr=learning_rate)"
   ]
  },
  {
   "cell_type": "markdown",
   "id": "67828cf3-07c2-47d1-bad6-ac8921c6b511",
   "metadata": {},
   "source": [
    "### Train the model"
   ]
  },
  {
   "cell_type": "code",
   "execution_count": 18,
   "id": "54cb4057-fe51-4953-8fcc-421f6e701b9e",
   "metadata": {},
   "outputs": [
    {
     "name": "stdout",
     "output_type": "stream",
     "text": [
      "Epoch  10 MSE:  0.04260166734457016\n",
      "Epoch  20 MSE:  0.014857346192002296\n",
      "Epoch  30 MSE:  0.007718811277300119\n",
      "Epoch  40 MSE:  0.004638992715626955\n",
      "Epoch  50 MSE:  0.0037118878681212664\n",
      "Epoch  60 MSE:  0.003246524604037404\n",
      "Epoch  70 MSE:  0.00290318438783288\n",
      "Epoch  80 MSE:  0.002656869124621153\n",
      "Epoch  90 MSE:  0.0024909847415983677\n",
      "Epoch  100 MSE:  0.0023300701286643744\n",
      "Epoch  110 MSE:  0.0021811213809996843\n",
      "Epoch  120 MSE:  0.00205070897936821\n",
      "Epoch  130 MSE:  0.001940534682944417\n",
      "Epoch  140 MSE:  0.0018450614297762513\n",
      "Epoch  150 MSE:  0.002238383051007986\n",
      "Epoch  160 MSE:  0.001819800236262381\n",
      "Epoch  170 MSE:  0.0017583868466317654\n",
      "Epoch  180 MSE:  0.0016540741780772805\n",
      "Epoch  190 MSE:  0.0016190973110496998\n"
     ]
    }
   ],
   "source": [
    "# Train model\n",
    "#####################\n",
    "hist = np.zeros(n_epochs)\n",
    "\n",
    "# Number of steps to unroll\n",
    "seq_dim = n_lags - 1  \n",
    "\n",
    "for epoch in range(n_epochs):    \n",
    "    # Forward pass\n",
    "    y_train_pred = model(x_train)\n",
    "\n",
    "    loss = loss_fn(y_train_pred, y_train)\n",
    "    if epoch % 10 == 0 and epoch !=0:\n",
    "        print(\"Epoch \", epoch, \"MSE: \", loss.item())\n",
    "    hist[epoch] = loss.item()\n",
    "\n",
    "    # Zero out gradient, else they will accumulate between epochs\n",
    "    optimiser.zero_grad()\n",
    "\n",
    "    # Backward pass\n",
    "    loss.backward()\n",
    "\n",
    "    # Update parameters\n",
    "    optimiser.step()"
   ]
  },
  {
   "cell_type": "markdown",
   "id": "057f5b86-91ec-4e15-9b69-0463df8e5b98",
   "metadata": {},
   "source": [
    "## Evaluate performance"
   ]
  },
  {
   "cell_type": "code",
   "execution_count": 19,
   "id": "c5d1c029-7849-4536-9887-8e67692b0c65",
   "metadata": {},
   "outputs": [
    {
     "data": {
      "image/png": "[encoded data removed]",
      "text/plain": [
       "<Figure size 432x288 with 1 Axes>"
      ]
     },
     "metadata": {
      "needs_background": "light"
     },
     "output_type": "display_data"
    }
   ],
   "source": [
    "plt.plot(hist, label=\"Training loss\")\n",
    "plt.xlabel('Epoch')\n",
    "plt.ylabel('MSE')\n",
    "plt.legend()\n",
    "plt.show()"
   ]
  },
  {
   "cell_type": "markdown",
   "id": "b8daa808-9077-4c5d-92da-1244f0297097",
   "metadata": {},
   "source": [
    "### Evaluate on test set\n",
    "\n",
    "Since the targets were also scaled, predictions are first back-transformed to their original scale."
   ]
  },
  {
   "cell_type": "code",
   "execution_count": 20,
   "id": "84884c54-3a1c-4e6e-8a70-112529d642bf",
   "metadata": {},
   "outputs": [
    {
     "name": "stdout",
     "output_type": "stream",
     "text": [
      "Train Score: 367.04 RMSE\n",
      "Test Score: 8943.56 RMSE\n"
     ]
    }
   ],
   "source": [
    "y_test_pred = model.predict(x_test)\n",
    "\n",
    "# invert predictions\n",
    "y_train_pred = scaler__.inverse_transform(y_train_pred.detach().numpy())\n",
    "y_train_ = scaler__.inverse_transform(y_train.detach().numpy())\n",
    "y_test_pred = scaler__.inverse_transform(y_test_pred.detach().numpy())\n",
    "y_test_ = scaler__.inverse_transform(y_test.detach().numpy())\n",
    "\n",
    "# calculate root mean squared error\n",
    "trainScore = math.sqrt(mean_squared_error(y_train_[:,0], y_train_pred[:,0]))\n",
    "print('Train Score: %.2f RMSE' % (trainScore))\n",
    "testScore = math.sqrt(mean_squared_error(y_test_[:,0], y_test_pred[:,0]))\n",
    "print('Test Score: %.2f RMSE' % (testScore))"
   ]
  },
  {
   "cell_type": "code",
   "execution_count": 23,
   "id": "adbaa474-8792-4f5a-93db-76211014e23a",
   "metadata": {},
   "outputs": [
    {
     "data": {
      "image/png": "[encoded data removed]",
      "text/plain": [
       "<Figure size 864x288 with 1 Axes>"
      ]
     },
     "metadata": {
      "needs_background": "light"
     },
     "output_type": "display_data"
    }
   ],
   "source": [
    "# Visualising the results\n",
    "figure, axes = plt.subplots(figsize=(12, 4))\n",
    "axes.xaxis_date()\n",
    "axes.plot(df_bc[len(df_bc)-len(y_test_):].index, y_test_, color = 'red', label = 'True closing price')\n",
    "axes.plot(df_bc[len(df_bc)-len(y_test_):].index, y_test_pred, color = 'blue', label = 'Predicted closing price')\n",
    "plt.title('Bitcoin closing price prediction')\n",
    "plt.xlabel('Time')\n",
    "plt.ylabel('Bitcoin closing price')\n",
    "plt.legend()\n",
    "plt.show()"
   ]
  },
  {
   "cell_type": "markdown",
   "id": "67708c33-66eb-4525-a5dd-40e26ac4725e",
   "metadata": {},
   "source": [
    "## Persist the model"
   ]
  },
  {
   "cell_type": "code",
   "execution_count": null,
   "id": "e548fda2-c506-4410-bb86-7b1a25451124",
   "metadata": {},
   "outputs": [],
   "source": [
    "torch.save(model.state_dict(), 'base_lstm.pth')"
   ]
  },
  {
   "cell_type": "markdown",
   "id": "37b219e1-60b6-49ad-94ff-c99d2d6886cf",
   "metadata": {},
   "source": [
    "## Load trained model\n",
    "\n",
    "Testing loading of the model. To simulate, clear the kernel so no objects are in the current environment. By loading the trained model and testing prediction, we verify that we have a working (trained) model."
   ]
  },
  {
   "cell_type": "code",
   "execution_count": 2,
   "id": "f2be97d2-a25d-4c32-affc-0bed065da545",
   "metadata": {},
   "outputs": [],
   "source": [
    "import torch\n",
    "from oit_helpers2 import LSTM"
   ]
  },
  {
   "cell_type": "code",
   "execution_count": 3,
   "id": "e60bfc02-ea0d-40c0-98a9-453faedd1cba",
   "metadata": {},
   "outputs": [],
   "source": [
    "# Initialize the model object\n",
    "hidden_layer_size = 100\n",
    "n_layers = 2\n",
    "input_size = 1\n",
    "output_size = 1\n",
    "\n",
    "model = LSTM(input_size=input_size, \n",
    "               hidden_layer_size=hidden_layer_size, \n",
    "               n_layers=n_layers, \n",
    "               output_size=output_size)"
   ]
  },
  {
   "cell_type": "code",
   "execution_count": 5,
   "id": "f5c6a734-e1bb-4ca5-9691-4e294a2f10b3",
   "metadata": {},
   "outputs": [],
   "source": [
    "# Load the trained model parameters and associate with empty LSTM model\n",
    "with torch.no_grad():\n",
    "    save_path = \"./base_lstm.pth\"\n",
    "    model.load_state_dict(torch.load(save_path))\n",
    "    model.eval() # since we're not computing gradients\n",
    "    test = torch.rand(30,7,1)\n",
    "    preds = model(test)"
   ]
  },
  {
   "cell_type": "code",
   "execution_count": 8,
   "id": "ddaf0cbd-1b9f-40cc-a1c6-1c56d610c946",
   "metadata": {},
   "outputs": [],
   "source": [
    "#model.state_dict()['lstm.weight_ih_l0']"
   ]
  },
  {
   "cell_type": "markdown",
   "id": "c809c27b-0d0e-4c88-9065-e6628d73c46b",
   "metadata": {},
   "source": [
    "## Future development\n",
    "- Tune hyperparameters (including n_lags, amount of data, NN parameters [layers, hidden nodes], learning rate, etc.)\n",
    "- By hand, but better done through cross-validation and with a validation set"
   ]
  }
 ],
 "metadata": {
  "kernelspec": {
   "display_name": "Python 3 (ipykernel)",
   "language": "python",
   "name": "python3"
  },
  "language_info": {
   "codemirror_mode": {
    "name": "ipython",
    "version": 3
   },
   "file_extension": ".py",
   "mimetype": "text/x-python",
   "name": "python",
   "nbconvert_exporter": "python",
   "pygments_lexer": "ipython3",
   "version": "3.9.6"
  }
 },
 "nbformat": 4,
 "nbformat_minor": 5
}
