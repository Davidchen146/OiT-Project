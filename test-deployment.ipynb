{
 "cells": [
  {
   "cell_type": "markdown",
   "id": "0abe665a-7c53-4ec3-b7e8-0d6f2f883bdb",
   "metadata": {},
   "source": [
    "# Description\n",
    "\n",
    "Use this notebook to test the locally deployed trained LSTM model.\n",
    "\n",
    "To run\n",
    "1. Set required arguments in this notebook\n",
    "    \n",
    "    - `n_lags` is the timestep used in the trained model\n",
    "    - `port` is the port set in `app.py`\n",
    "    \n",
    "2. Launch the Flask application by going to your terminal, `cd` into the appropriate working directory, and run the command `python3 app.py`\n",
    "\n",
    "    - This starts the service at \"`http://127.0.0.1:{port}`\"\n",
    "    \n",
    "3. Prepare the input data\n",
    "\n",
    "    - The structure depends on how it was defined in `app.py`\n",
    "    - As of now, needs to be a list of lists where each sub list is of length `n_lags`\n",
    "    - We must supply a list because we set up the API to expect (via a `POST`) a JSON object (and neither numpy arrays nor tensors are JSON serializable)\n",
    "    \n",
    "4. Send a POST request to the deployed model and retrieve the response (i.e., the predictions)."
   ]
  },
  {
   "cell_type": "code",
   "execution_count": null,
   "id": "b4699d4a-c771-490f-ba99-841b144a2186",
   "metadata": {},
   "outputs": [],
   "source": [
    "import json\n",
    "\n",
    "import torch\n",
    "import requests"
   ]
  },
  {
   "cell_type": "markdown",
   "id": "d80d8a15-7913-4574-a717-8d499c69701c",
   "metadata": {},
   "source": [
    "## 0. Preparation"
   ]
  },
  {
   "cell_type": "code",
   "execution_count": null,
   "id": "1ec5d89d-8db5-4483-a7b0-e80da9b86364",
   "metadata": {},
   "outputs": [],
   "source": [
    "# Set required variables\n",
    "n_lags = 7 # from trained model, change if different from 7\n",
    "port = 1234 # change if different in app.py"
   ]
  },
  {
   "cell_type": "code",
   "execution_count": null,
   "id": "c076138e-3285-4b22-962a-67b2566dc6c8",
   "metadata": {},
   "outputs": [],
   "source": [
    "# Generate some test data to submit to deployed model\n",
    "in_data = torch.tensor([[x for x in range(n_lags)],\n",
    "                  [x for x in range(n_lags)]])\n",
    "print(f\"in_data is of type {type(in_data)} and of size {in_data.size()}\")"
   ]
  },
  {
   "cell_type": "markdown",
   "id": "d9dc419a-67ef-44b0-8cf5-bab4f76bbccf",
   "metadata": {},
   "source": [
    "## 1. Prepare data for POST submission"
   ]
  },
  {
   "cell_type": "code",
   "execution_count": null,
   "id": "ccced546-0556-4233-8475-c3069aa3b4fd",
   "metadata": {},
   "outputs": [],
   "source": [
    "# Input data cannot be a tensor so convert to list\n",
    "in_data = in_data.tolist()\n",
    "print(f\"in_data is of type {type(in_data)}\")"
   ]
  },
  {
   "cell_type": "code",
   "execution_count": null,
   "id": "0c3cf79e-8c1b-4447-9561-81742652f214",
   "metadata": {},
   "outputs": [],
   "source": [
    "# Deployment expects a JSON object with a single key \"input_data\" and value (the data/list)\n",
    "body = {'input_data':in_data}\n",
    "\n",
    "# Use this to make sure the input is JSON serializable (i.e., a valid JSON object)\n",
    "try:\n",
    "    _ = json.dumps(body)\n",
    "    print(\"Input is a valid JSON object\")\n",
    "except Exception as e:\n",
    "    print(e)"
   ]
  },
  {
   "cell_type": "markdown",
   "id": "729a3300-7f29-4088-9a74-439cc9510e79",
   "metadata": {},
   "source": [
    "## 2. Submit POST request to generate predictions\n",
    "\n",
    "- Don't forget, your application *must* already be running for this to work"
   ]
  },
  {
   "cell_type": "code",
   "execution_count": null,
   "id": "589ce771-4986-4191-be74-9f5eb6461b8d",
   "metadata": {},
   "outputs": [],
   "source": [
    "# The endpoint we set up in app.py is at /predict\n",
    "url = f\"http://localhost:{port}/predict\"\n",
    "resp = requests.post(url=url,\n",
    "                     json=body) # using json arg sets POST up to submit a JSON object\n",
    "if resp.status_code == 200:\n",
    "    print('Success...API returned a response from the deployed model!')\n",
    "else:\n",
    "    print(f'Response returned a {resp.status_code} error code...with reason {resp.reason}')"
   ]
  },
  {
   "cell_type": "markdown",
   "id": "fcf00276-48cd-4433-bb43-85edf538497f",
   "metadata": {},
   "source": [
    "## 3. View response/predictions"
   ]
  },
  {
   "cell_type": "code",
   "execution_count": null,
   "id": "64b5f040-8848-45f0-a3af-c84583bbf04a",
   "metadata": {},
   "outputs": [],
   "source": [
    "preds = resp.json() # to quickly convert response to JSON\n",
    "preds"
   ]
  },
  {
   "cell_type": "code",
   "execution_count": null,
   "id": "6aeb3f04-8801-4e05-874f-e5feeb7d92af",
   "metadata": {},
   "outputs": [],
   "source": [
    "preds_tensors = torch.tensor(preds['output'])\n",
    "preds_tensors"
   ]
  },
  {
   "cell_type": "markdown",
   "id": "6f1bb6f9-e7a8-42df-8b6c-b5c6d87457f3",
   "metadata": {},
   "source": [
    "## 4. A quick experiment\n",
    "\n",
    "1. Save the **_unscaled_** training data you used when training the model. You can use the following code in the training notebook.\n",
    "\n",
    "```\n",
    "import pickle\n",
    "\n",
    "# x_train, y_train are the training data\n",
    "training_data = {'x_train':x_train, 'y_train':y_train}\n",
    "with open('train_data_lag7.pkl', 'wb') as f:\n",
    "    pickle.dump(training_data, f)\n",
    "```\n",
    "\n",
    "2. Load the data in this notebook to submit to the deployed model. You can use this code to open the data.\n",
    "\n",
    "```\n",
    "import pickle\n",
    "\n",
    "with open('train_data_lag7.pkl', 'rb') as f:\n",
    "    training_data = pickle.load(f)\n",
    "    \n",
    "x_train = training_data['x_train']\n",
    "y_train = training_data['y_train']\n",
    "```\n",
    "\n",
    "3. Use `x_train` in the input payload. Careful here...depending at which point you saved the data, you could have a 2D or 3D tensor. At the moment, the deployment expects a 2D input so if you have a 3D tensor, you have to remove that third dimension (e.g., with `squeeze()`) before you convert the tensor to a list.\n",
    "\n",
    "4. Hopefully you find that the generated predictions returned from the deployed model are close to `y_train`."
   ]
  },
  {
   "cell_type": "code",
   "execution_count": null,
   "id": "0aa308cd-3710-4d84-8f8a-a4c3f1f5c394",
   "metadata": {},
   "outputs": [],
   "source": []
  }
 ],
 "metadata": {
  "kernelspec": {
   "display_name": "Python 3 (ipykernel)",
   "language": "python",
   "name": "python3"
  },
  "language_info": {
   "codemirror_mode": {
    "name": "ipython",
    "version": 3
   },
   "file_extension": ".py",
   "mimetype": "text/x-python",
   "name": "python",
   "nbconvert_exporter": "python",
   "pygments_lexer": "ipython3",
   "version": "3.9.6"
  }
 },
 "nbformat": 4,
 "nbformat_minor": 5
}
