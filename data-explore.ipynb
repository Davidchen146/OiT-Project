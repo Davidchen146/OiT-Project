{
 "cells": [
  {
   "cell_type": "markdown",
   "id": "5355b927-e5cb-4dd9-8ee6-36f795138317",
   "metadata": {},
   "source": [
    "# Description\n",
    "\n",
    "Data exploration for crypto market data"
   ]
  },
  {
   "cell_type": "code",
   "execution_count": 2,
   "id": "20f96ef8-1b63-4bec-97f7-d3ff61623ce8",
   "metadata": {},
   "outputs": [],
   "source": [
    "import os\n",
    "\n",
    "import numpy as np\n",
    "import pandas as pd\n",
    "import matplotlib.pyplot as plt\n",
    "import seaborn as sns\n",
    "\n",
    "sns.set(style=\"darkgrid\", font_scale=1.5)\n",
    "%matplotlib inline"
   ]
  },
  {
   "cell_type": "markdown",
   "id": "17b79e0b-6610-4d1c-a3e0-2e4c2bd58b0c",
   "metadata": {},
   "source": [
    "## Read the data"
   ]
  },
  {
   "cell_type": "code",
   "execution_count": 3,
   "id": "d86fbce2-b803-4a12-bf88-0dacccfd1bf2",
   "metadata": {},
   "outputs": [
    {
     "data": {
      "text/html": [
       "<div>\n",
       "<style scoped>\n",
       "    .dataframe tbody tr th:only-of-type {\n",
       "        vertical-align: middle;\n",
       "    }\n",
       "\n",
       "    .dataframe tbody tr th {\n",
       "        vertical-align: top;\n",
       "    }\n",
       "\n",
       "    .dataframe thead th {\n",
       "        text-align: right;\n",
       "    }\n",
       "</style>\n",
       "<table border=\"1\" class=\"dataframe\">\n",
       "  <thead>\n",
       "    <tr style=\"text-align: right;\">\n",
       "      <th></th>\n",
       "      <th>slug</th>\n",
       "      <th>symbol</th>\n",
       "      <th>name</th>\n",
       "      <th>ranknow</th>\n",
       "      <th>open</th>\n",
       "      <th>high</th>\n",
       "      <th>low</th>\n",
       "      <th>close</th>\n",
       "      <th>volume</th>\n",
       "      <th>market</th>\n",
       "      <th>close_ratio</th>\n",
       "      <th>spread</th>\n",
       "    </tr>\n",
       "    <tr>\n",
       "      <th>date</th>\n",
       "      <th></th>\n",
       "      <th></th>\n",
       "      <th></th>\n",
       "      <th></th>\n",
       "      <th></th>\n",
       "      <th></th>\n",
       "      <th></th>\n",
       "      <th></th>\n",
       "      <th></th>\n",
       "      <th></th>\n",
       "      <th></th>\n",
       "      <th></th>\n",
       "    </tr>\n",
       "  </thead>\n",
       "  <tbody>\n",
       "    <tr>\n",
       "      <th>2013-04-28</th>\n",
       "      <td>bitcoin</td>\n",
       "      <td>BTC</td>\n",
       "      <td>Bitcoin</td>\n",
       "      <td>1</td>\n",
       "      <td>135.30</td>\n",
       "      <td>135.98</td>\n",
       "      <td>132.10</td>\n",
       "      <td>134.21</td>\n",
       "      <td>0.0</td>\n",
       "      <td>1.488567e+09</td>\n",
       "      <td>0.5438</td>\n",
       "      <td>3.88</td>\n",
       "    </tr>\n",
       "    <tr>\n",
       "      <th>2013-04-29</th>\n",
       "      <td>bitcoin</td>\n",
       "      <td>BTC</td>\n",
       "      <td>Bitcoin</td>\n",
       "      <td>1</td>\n",
       "      <td>134.44</td>\n",
       "      <td>147.49</td>\n",
       "      <td>134.00</td>\n",
       "      <td>144.54</td>\n",
       "      <td>0.0</td>\n",
       "      <td>1.603769e+09</td>\n",
       "      <td>0.7813</td>\n",
       "      <td>13.49</td>\n",
       "    </tr>\n",
       "    <tr>\n",
       "      <th>2013-04-30</th>\n",
       "      <td>bitcoin</td>\n",
       "      <td>BTC</td>\n",
       "      <td>Bitcoin</td>\n",
       "      <td>1</td>\n",
       "      <td>144.00</td>\n",
       "      <td>146.93</td>\n",
       "      <td>134.05</td>\n",
       "      <td>139.00</td>\n",
       "      <td>0.0</td>\n",
       "      <td>1.542813e+09</td>\n",
       "      <td>0.3843</td>\n",
       "      <td>12.88</td>\n",
       "    </tr>\n",
       "    <tr>\n",
       "      <th>2013-05-01</th>\n",
       "      <td>bitcoin</td>\n",
       "      <td>BTC</td>\n",
       "      <td>Bitcoin</td>\n",
       "      <td>1</td>\n",
       "      <td>139.00</td>\n",
       "      <td>139.89</td>\n",
       "      <td>107.72</td>\n",
       "      <td>116.99</td>\n",
       "      <td>0.0</td>\n",
       "      <td>1.298955e+09</td>\n",
       "      <td>0.2882</td>\n",
       "      <td>32.17</td>\n",
       "    </tr>\n",
       "    <tr>\n",
       "      <th>2013-05-02</th>\n",
       "      <td>bitcoin</td>\n",
       "      <td>BTC</td>\n",
       "      <td>Bitcoin</td>\n",
       "      <td>1</td>\n",
       "      <td>116.38</td>\n",
       "      <td>125.60</td>\n",
       "      <td>92.28</td>\n",
       "      <td>105.21</td>\n",
       "      <td>0.0</td>\n",
       "      <td>1.168517e+09</td>\n",
       "      <td>0.3881</td>\n",
       "      <td>33.32</td>\n",
       "    </tr>\n",
       "    <tr>\n",
       "      <th>2013-05-03</th>\n",
       "      <td>bitcoin</td>\n",
       "      <td>BTC</td>\n",
       "      <td>Bitcoin</td>\n",
       "      <td>1</td>\n",
       "      <td>106.25</td>\n",
       "      <td>108.13</td>\n",
       "      <td>79.10</td>\n",
       "      <td>97.75</td>\n",
       "      <td>0.0</td>\n",
       "      <td>1.085995e+09</td>\n",
       "      <td>0.6424</td>\n",
       "      <td>29.03</td>\n",
       "    </tr>\n",
       "    <tr>\n",
       "      <th>2013-05-04</th>\n",
       "      <td>bitcoin</td>\n",
       "      <td>BTC</td>\n",
       "      <td>Bitcoin</td>\n",
       "      <td>1</td>\n",
       "      <td>98.10</td>\n",
       "      <td>115.00</td>\n",
       "      <td>92.50</td>\n",
       "      <td>112.50</td>\n",
       "      <td>0.0</td>\n",
       "      <td>1.250317e+09</td>\n",
       "      <td>0.8889</td>\n",
       "      <td>22.50</td>\n",
       "    </tr>\n",
       "    <tr>\n",
       "      <th>2013-05-05</th>\n",
       "      <td>bitcoin</td>\n",
       "      <td>BTC</td>\n",
       "      <td>Bitcoin</td>\n",
       "      <td>1</td>\n",
       "      <td>112.90</td>\n",
       "      <td>118.80</td>\n",
       "      <td>107.14</td>\n",
       "      <td>115.91</td>\n",
       "      <td>0.0</td>\n",
       "      <td>1.288693e+09</td>\n",
       "      <td>0.7521</td>\n",
       "      <td>11.66</td>\n",
       "    </tr>\n",
       "    <tr>\n",
       "      <th>2013-05-06</th>\n",
       "      <td>bitcoin</td>\n",
       "      <td>BTC</td>\n",
       "      <td>Bitcoin</td>\n",
       "      <td>1</td>\n",
       "      <td>115.98</td>\n",
       "      <td>124.66</td>\n",
       "      <td>106.64</td>\n",
       "      <td>112.30</td>\n",
       "      <td>0.0</td>\n",
       "      <td>1.249023e+09</td>\n",
       "      <td>0.3141</td>\n",
       "      <td>18.02</td>\n",
       "    </tr>\n",
       "    <tr>\n",
       "      <th>2013-05-07</th>\n",
       "      <td>bitcoin</td>\n",
       "      <td>BTC</td>\n",
       "      <td>Bitcoin</td>\n",
       "      <td>1</td>\n",
       "      <td>112.25</td>\n",
       "      <td>113.44</td>\n",
       "      <td>97.70</td>\n",
       "      <td>111.50</td>\n",
       "      <td>0.0</td>\n",
       "      <td>1.240594e+09</td>\n",
       "      <td>0.8767</td>\n",
       "      <td>15.74</td>\n",
       "    </tr>\n",
       "  </tbody>\n",
       "</table>\n",
       "</div>"
      ],
      "text/plain": [
       "               slug symbol     name  ranknow    open    high     low   close  \\\n",
       "date                                                                           \n",
       "2013-04-28  bitcoin    BTC  Bitcoin        1  135.30  135.98  132.10  134.21   \n",
       "2013-04-29  bitcoin    BTC  Bitcoin        1  134.44  147.49  134.00  144.54   \n",
       "2013-04-30  bitcoin    BTC  Bitcoin        1  144.00  146.93  134.05  139.00   \n",
       "2013-05-01  bitcoin    BTC  Bitcoin        1  139.00  139.89  107.72  116.99   \n",
       "2013-05-02  bitcoin    BTC  Bitcoin        1  116.38  125.60   92.28  105.21   \n",
       "2013-05-03  bitcoin    BTC  Bitcoin        1  106.25  108.13   79.10   97.75   \n",
       "2013-05-04  bitcoin    BTC  Bitcoin        1   98.10  115.00   92.50  112.50   \n",
       "2013-05-05  bitcoin    BTC  Bitcoin        1  112.90  118.80  107.14  115.91   \n",
       "2013-05-06  bitcoin    BTC  Bitcoin        1  115.98  124.66  106.64  112.30   \n",
       "2013-05-07  bitcoin    BTC  Bitcoin        1  112.25  113.44   97.70  111.50   \n",
       "\n",
       "            volume        market  close_ratio  spread  \n",
       "date                                                   \n",
       "2013-04-28     0.0  1.488567e+09       0.5438    3.88  \n",
       "2013-04-29     0.0  1.603769e+09       0.7813   13.49  \n",
       "2013-04-30     0.0  1.542813e+09       0.3843   12.88  \n",
       "2013-05-01     0.0  1.298955e+09       0.2882   32.17  \n",
       "2013-05-02     0.0  1.168517e+09       0.3881   33.32  \n",
       "2013-05-03     0.0  1.085995e+09       0.6424   29.03  \n",
       "2013-05-04     0.0  1.250317e+09       0.8889   22.50  \n",
       "2013-05-05     0.0  1.288693e+09       0.7521   11.66  \n",
       "2013-05-06     0.0  1.249023e+09       0.3141   18.02  \n",
       "2013-05-07     0.0  1.240594e+09       0.8767   15.74  "
      ]
     },
     "execution_count": 3,
     "metadata": {},
     "output_type": "execute_result"
    }
   ],
   "source": [
    "data_location = './datasets/all-crypto-currencies/crypto-markets.csv'\n",
    "data = pd.read_csv(data_location, \n",
    "                   parse_dates=['date'], \n",
    "                   index_col=\"date\")\n",
    "data.head(10)"
   ]
  },
  {
   "cell_type": "markdown",
   "id": "29ca63c8-17ad-430e-9be3-92f175d293ca",
   "metadata": {
    "tags": []
   },
   "source": [
    "## Visualize closing prices for Bitcoin"
   ]
  },
  {
   "cell_type": "code",
   "execution_count": 9,
   "id": "31726320-9e99-427e-965e-0ea8060e28d6",
   "metadata": {},
   "outputs": [],
   "source": [
    "## Closing Bitcoin prices\n",
    "bit_close = data.query('slug==\"bitcoin\"').copy()\n",
    "## Opening Bitcoin prices\n",
    "bit_open = data.query('slug==\"bitcoin\"').copy()"
   ]
  },
  {
   "cell_type": "code",
   "execution_count": null,
   "id": "f850bb1a-b6cb-423b-9418-94b2b661eee9",
   "metadata": {},
   "outputs": [],
   "source": []
  },
  {
   "cell_type": "code",
   "execution_count": 12,
   "id": "df8321dd-c5f3-4f56-a3c5-c63cc0ee5ffc",
   "metadata": {},
   "outputs": [
    {
     "name": "stdout",
     "output_type": "stream",
     "text": [
      "CPU times: total: 62.5 ms\n",
      "Wall time: 54.4 ms\n"
     ]
    }
   ],
   "source": [
    "%%time\n",
    "for i in range(len(bit_close)):\n",
    "    bit_close.iloc[i, 7] + 100"
   ]
  },
  {
   "cell_type": "code",
   "execution_count": 13,
   "id": "1a3696e3-54d5-4c59-94bb-01182f2b131f",
   "metadata": {},
   "outputs": [
    {
     "name": "stdout",
     "output_type": "stream",
     "text": [
      "CPU times: total: 0 ns\n",
      "Wall time: 996 µs\n"
     ]
    },
    {
     "data": {
      "text/plain": [
       "date\n",
       "2013-04-28     234.21\n",
       "2013-04-29     244.54\n",
       "2013-04-30     239.00\n",
       "2013-05-01     216.99\n",
       "2013-05-02     205.21\n",
       "               ...   \n",
       "2018-11-25    4109.97\n",
       "2018-11-26    3879.13\n",
       "2018-11-27    3920.72\n",
       "2018-11-28    4357.42\n",
       "2018-11-29    4378.85\n",
       "Name: close, Length: 2042, dtype: float64"
      ]
     },
     "execution_count": 13,
     "metadata": {},
     "output_type": "execute_result"
    }
   ],
   "source": [
    "%%time\n",
    "bit_close.close + 100"
   ]
  },
  {
   "cell_type": "code",
   "execution_count": 5,
   "id": "a5c1d026-9e88-4705-ae85-708ada2a4a0e",
   "metadata": {},
   "outputs": [
    {
     "name": "stdout",
     "output_type": "stream",
     "text": [
      "Help on function lineplot in module seaborn.relational:\n",
      "\n",
      "lineplot(*, x=None, y=None, hue=None, size=None, style=None, data=None, palette=None, hue_order=None, hue_norm=None, sizes=None, size_order=None, size_norm=None, dashes=True, markers=None, style_order=None, units=None, estimator='mean', ci=95, n_boot=1000, seed=None, sort=True, err_style='band', err_kws=None, legend='auto', ax=None, **kwargs)\n",
      "    Draw a line plot with possibility of several semantic groupings.\n",
      "    \n",
      "    The relationship between ``x`` and ``y`` can be shown for different subsets\n",
      "    of the data using the ``hue``, ``size``, and ``style`` parameters. These\n",
      "    parameters control what visual semantics are used to identify the different\n",
      "    subsets. It is possible to show up to three dimensions independently by\n",
      "    using all three semantic types, but this style of plot can be hard to\n",
      "    interpret and is often ineffective. Using redundant semantics (i.e. both\n",
      "    ``hue`` and ``style`` for the same variable) can be helpful for making\n",
      "    graphics more accessible.\n",
      "    \n",
      "    See the :ref:`tutorial <relational_tutorial>` for more information.\n",
      "    \n",
      "    The default treatment of the ``hue`` (and to a lesser extent, ``size``)\n",
      "    semantic, if present, depends on whether the variable is inferred to\n",
      "    represent \"numeric\" or \"categorical\" data. In particular, numeric variables\n",
      "    are represented with a sequential colormap by default, and the legend\n",
      "    entries show regular \"ticks\" with values that may or may not exist in the\n",
      "    data. This behavior can be controlled through various parameters, as\n",
      "    described and illustrated below.\n",
      "    \n",
      "    By default, the plot aggregates over multiple ``y`` values at each value of\n",
      "    ``x`` and shows an estimate of the central tendency and a confidence\n",
      "    interval for that estimate.\n",
      "    \n",
      "    Parameters\n",
      "    ----------\n",
      "    x, y : vectors or keys in ``data``\n",
      "        Variables that specify positions on the x and y axes.\n",
      "    hue : vector or key in ``data``\n",
      "        Grouping variable that will produce lines with different colors.\n",
      "        Can be either categorical or numeric, although color mapping will\n",
      "        behave differently in latter case.\n",
      "    size : vector or key in ``data``\n",
      "        Grouping variable that will produce lines with different widths.\n",
      "        Can be either categorical or numeric, although size mapping will\n",
      "        behave differently in latter case.\n",
      "    style : vector or key in ``data``\n",
      "        Grouping variable that will produce lines with different dashes\n",
      "        and/or markers. Can have a numeric dtype but will always be treated\n",
      "        as categorical.\n",
      "    data : :class:`pandas.DataFrame`, :class:`numpy.ndarray`, mapping, or sequence\n",
      "        Input data structure. Either a long-form collection of vectors that can be\n",
      "        assigned to named variables or a wide-form dataset that will be internally\n",
      "        reshaped.\n",
      "    palette : string, list, dict, or :class:`matplotlib.colors.Colormap`\n",
      "        Method for choosing the colors to use when mapping the ``hue`` semantic.\n",
      "        String values are passed to :func:`color_palette`. List or dict values\n",
      "        imply categorical mapping, while a colormap object implies numeric mapping.\n",
      "    hue_order : vector of strings\n",
      "        Specify the order of processing and plotting for categorical levels of the\n",
      "        ``hue`` semantic.\n",
      "    hue_norm : tuple or :class:`matplotlib.colors.Normalize`\n",
      "        Either a pair of values that set the normalization range in data units\n",
      "        or an object that will map from data units into a [0, 1] interval. Usage\n",
      "        implies numeric mapping.\n",
      "    sizes : list, dict, or tuple\n",
      "        An object that determines how sizes are chosen when ``size`` is used.\n",
      "        It can always be a list of size values or a dict mapping levels of the\n",
      "        ``size`` variable to sizes. When ``size``  is numeric, it can also be\n",
      "        a tuple specifying the minimum and maximum size to use such that other\n",
      "        values are normalized within this range.\n",
      "    size_order : list\n",
      "        Specified order for appearance of the ``size`` variable levels,\n",
      "        otherwise they are determined from the data. Not relevant when the\n",
      "        ``size`` variable is numeric.\n",
      "    size_norm : tuple or Normalize object\n",
      "        Normalization in data units for scaling plot objects when the\n",
      "        ``size`` variable is numeric.\n",
      "    dashes : boolean, list, or dictionary\n",
      "        Object determining how to draw the lines for different levels of the\n",
      "        ``style`` variable. Setting to ``True`` will use default dash codes, or\n",
      "        you can pass a list of dash codes or a dictionary mapping levels of the\n",
      "        ``style`` variable to dash codes. Setting to ``False`` will use solid\n",
      "        lines for all subsets. Dashes are specified as in matplotlib: a tuple\n",
      "        of ``(segment, gap)`` lengths, or an empty string to draw a solid line.\n",
      "    markers : boolean, list, or dictionary\n",
      "        Object determining how to draw the markers for different levels of the\n",
      "        ``style`` variable. Setting to ``True`` will use default markers, or\n",
      "        you can pass a list of markers or a dictionary mapping levels of the\n",
      "        ``style`` variable to markers. Setting to ``False`` will draw\n",
      "        marker-less lines.  Markers are specified as in matplotlib.\n",
      "    style_order : list\n",
      "        Specified order for appearance of the ``style`` variable levels\n",
      "        otherwise they are determined from the data. Not relevant when the\n",
      "        ``style`` variable is numeric.\n",
      "    units : vector or key in ``data``\n",
      "        Grouping variable identifying sampling units. When used, a separate\n",
      "        line will be drawn for each unit with appropriate semantics, but no\n",
      "        legend entry will be added. Useful for showing distribution of\n",
      "        experimental replicates when exact identities are not needed.\n",
      "    estimator : name of pandas method or callable or None\n",
      "        Method for aggregating across multiple observations of the ``y``\n",
      "        variable at the same ``x`` level. If ``None``, all observations will\n",
      "        be drawn.\n",
      "    ci : int or \"sd\" or None\n",
      "        Size of the confidence interval to draw when aggregating with an\n",
      "        estimator. \"sd\" means to draw the standard deviation of the data.\n",
      "        Setting to ``None`` will skip bootstrapping.\n",
      "    n_boot : int\n",
      "        Number of bootstraps to use for computing the confidence interval.\n",
      "    seed : int, numpy.random.Generator, or numpy.random.RandomState\n",
      "        Seed or random number generator for reproducible bootstrapping.\n",
      "    sort : boolean\n",
      "        If True, the data will be sorted by the x and y variables, otherwise\n",
      "        lines will connect points in the order they appear in the dataset.\n",
      "    err_style : \"band\" or \"bars\"\n",
      "        Whether to draw the confidence intervals with translucent error bands\n",
      "        or discrete error bars.\n",
      "    err_kws : dict of keyword arguments\n",
      "        Additional paramters to control the aesthetics of the error bars. The\n",
      "        kwargs are passed either to :meth:`matplotlib.axes.Axes.fill_between`\n",
      "        or :meth:`matplotlib.axes.Axes.errorbar`, depending on ``err_style``.\n",
      "    legend : \"auto\", \"brief\", \"full\", or False\n",
      "        How to draw the legend. If \"brief\", numeric ``hue`` and ``size``\n",
      "        variables will be represented with a sample of evenly spaced values.\n",
      "        If \"full\", every group will get an entry in the legend. If \"auto\",\n",
      "        choose between brief or full representation based on number of levels.\n",
      "        If ``False``, no legend data is added and no legend is drawn.\n",
      "    ax : :class:`matplotlib.axes.Axes`\n",
      "        Pre-existing axes for the plot. Otherwise, call :func:`matplotlib.pyplot.gca`\n",
      "        internally.\n",
      "    kwargs : key, value mappings\n",
      "        Other keyword arguments are passed down to\n",
      "        :meth:`matplotlib.axes.Axes.plot`.\n",
      "    \n",
      "    Returns\n",
      "    -------\n",
      "    :class:`matplotlib.axes.Axes`\n",
      "        The matplotlib axes containing the plot.\n",
      "    \n",
      "    See Also\n",
      "    --------\n",
      "    scatterplot : Plot data using points.\n",
      "    pointplot : Plot point estimates and CIs using markers and lines.\n",
      "    \n",
      "    Examples\n",
      "    --------\n",
      "    \n",
      "    .. include:: ../docstrings/lineplot.rst\n",
      "\n"
     ]
    }
   ],
   "source": [
    "help(sns.lineplot)"
   ]
  },
  {
   "cell_type": "code",
   "execution_count": 8,
   "id": "76d2b596-cf71-4dd1-acf1-df903bf8b024",
   "metadata": {},
   "outputs": [
    {
     "data": {
      "text/plain": [
       "pandas.core.series.Series"
      ]
     },
     "execution_count": 8,
     "metadata": {},
     "output_type": "execute_result"
    }
   ],
   "source": [
    "type(bit_close.close)"
   ]
  },
  {
   "cell_type": "code",
   "execution_count": 6,
   "id": "c864fe05-77ca-4ce4-be4d-1e5e74e5f84a",
   "metadata": {},
   "outputs": [
    {
     "data": {
      "text/plain": [
       "Text(0.5, 1.0, 'Opening price of Bitcoin')"
      ]
     },
     "execution_count": 6,
     "metadata": {},
     "output_type": "execute_result"
    },
    {
     "data": {
      "image/png": "[encoded data removed]",
      "text/plain": [
       "<Figure size 720x288 with 1 Axes>"
      ]
     },
     "metadata": {
      "needs_background": "light"
     },
     "output_type": "display_data"
    },
    {
     "data": {
      "image/png": "[encoded data removed]",
      "text/plain": [
       "<Figure size 720x288 with 1 Axes>"
      ]
     },
     "metadata": {
      "needs_background": "light"
     },
     "output_type": "display_data"
    },
    {
     "data": {
      "image/png": "[encoded data removed]",
      "text/plain": [
       "<Figure size 720x288 with 1 Axes>"
      ]
     },
     "metadata": {
      "needs_background": "light"
     },
     "output_type": "display_data"
    }
   ],
   "source": [
    "plt.figure(figsize=(10,4))\n",
    "(sns.lineplot(x=bit_close.index, y=\"close\", data=bit_close)\n",
    " .set_title(\"Closing price of Bitcoin\"))\n",
    "\n",
    "plt.figure(figsize=(10,4))\n",
    "(sns.lineplot(x=bit_open.index, y=\"open\", data=bit_open)\n",
    " .set_title(\"Opening price of Bitcoin\"))\n",
    "\n",
    "plt.figure(figsize=(10,4))\n",
    "(sns.lineplot(x=bit_open.index, y=bit_open.close - bit_open.open)\n",
    " .set_title(\"Opening price of Bitcoin\"))"
   ]
  },
  {
   "cell_type": "code",
   "execution_count": null,
   "id": "641a0e58-b15e-42d2-87b2-1b20fae5c4cc",
   "metadata": {},
   "outputs": [],
   "source": []
  }
 ],
 "metadata": {
  "kernelspec": {
   "display_name": "Python 3 (ipykernel)",
   "language": "python",
   "name": "python3"
  },
  "language_info": {
   "codemirror_mode": {
    "name": "ipython",
    "version": 3
   },
   "file_extension": ".py",
   "mimetype": "text/x-python",
   "name": "python",
   "nbconvert_exporter": "python",
   "pygments_lexer": "ipython3",
   "version": "3.9.12"
  }
 },
 "nbformat": 4,
 "nbformat_minor": 5
}
