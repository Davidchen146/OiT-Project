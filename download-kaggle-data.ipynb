{
 "cells": [
  {
   "cell_type": "markdown",
   "id": "a46ebf50-764f-4030-ba85-2c1136df6ffb",
   "metadata": {
    "tags": []
   },
   "source": [
    "# Description\n",
    "\n",
    "Notebook for downloading [crypotocurrency market data](https://www.kaggle.com/datasets/jessevent/all-crypto-currencies) from Kaggle using Kaggle API. This notebook covers:\n",
    "\n",
    "1. Installing Kaggle API\n",
    "2. Configuring API\n",
    "3. Downloading data to project directory"
   ]
  },
  {
   "cell_type": "raw",
   "id": "1aa90242-cd79-46ef-a11f-060e01842b04",
   "metadata": {},
   "source": [
    "# Only run if not already installed\n",
    "!pip3 install kaggle --upgrade"
   ]
  },
  {
   "cell_type": "code",
   "execution_count": 11,
   "id": "a1519857-b1eb-4111-bba5-956abeea30bf",
   "metadata": {},
   "outputs": [],
   "source": [
    "import os\n",
    "import json\n",
    "import subprocess\n",
    "\n",
    "import pandas as pd\n",
    "from dotenv import load_dotenv\n",
    "import kaggle"
   ]
  },
  {
   "cell_type": "code",
   "execution_count": 4,
   "id": "5be1c22e-c57d-4b9f-b864-10ac69ac15c8",
   "metadata": {},
   "outputs": [],
   "source": [
    "# Get secrets from env vars\n",
    "load_dotenv()\n",
    "kaggle_username = os.environ.get(\"kaggle_username\")\n",
    "kaggle_api_key = os.environ.get(\"kaggle_api_key\")"
   ]
  },
  {
   "cell_type": "markdown",
   "id": "b7f3f18c-6124-42d0-9ef3-fb3ba808dea5",
   "metadata": {},
   "source": [
    "### Download data using Kaggle API\n",
    "\n",
    "See [example usage of kaggle API](https://www.kaggle.com/code/donkeys/kaggle-python-api/notebook)"
   ]
  },
  {
   "cell_type": "code",
   "execution_count": 21,
   "id": "9a38d3e8-b96b-4e02-911f-86f2ef354969",
   "metadata": {},
   "outputs": [
    {
     "name": "stdout",
     "output_type": "stream",
     "text": [
      "Kaggle API already configured...skipping this step\n"
     ]
    }
   ],
   "source": [
    "# Setup Kaggle API if first time using\n",
    "KAGGLE_CONFIG_DIR = os.path.join(os.path.expandvars('$HOME'), '.kaggle')\n",
    "\n",
    "if not os.path.exists(KAGGLE_CONFIG_DIR):\n",
    "    os.makedirs(KAGGLE_CONFIG_DIR, exist_ok = True)\n",
    "    api_dict = {\"username\":kaggle_username, \"key\":kaggle_api_key}\n",
    "    with open(f\"{KAGGLE_CONFIG_DIR}/kaggle.json\", \"w\", encoding='utf-8') as f:\n",
    "        json.dump(api_dict, f)\n",
    "    cmd = f\"chmod 600 {KAGGLE_CONFIG_DIR}/kaggle.json\"\n",
    "    output = subprocess.check_output(cmd.split(\" \"))\n",
    "    output = output.decode(encoding='UTF-8')\n",
    "    print(output)\n",
    "else:\n",
    "    print(\"Kaggle API already configured...skipping this step\")"
   ]
  },
  {
   "cell_type": "code",
   "execution_count": 22,
   "id": "0bd5317c-f1fc-4f89-8165-4b3bdc64c8b4",
   "metadata": {},
   "outputs": [
    {
     "name": "stdout",
     "output_type": "stream",
     "text": [
      "Help on method dataset_download_files in module kaggle.api.kaggle_api_extended:\n",
      "\n",
      "dataset_download_files(dataset, path=None, force=False, quiet=True, unzip=False) method of kaggle.api.kaggle_api_extended.KaggleApi instance\n",
      "    download all files for a dataset\n",
      "    \n",
      "    Parameters\n",
      "    ==========\n",
      "    dataset: the string identified of the dataset\n",
      "             should be in format [owner]/[dataset-name]\n",
      "    path: the path to download the dataset to\n",
      "    force: force the download if the file already exists (default False)\n",
      "    quiet: suppress verbose output (default is True)\n",
      "    unzip: if True, unzip files upon download (default is False)\n",
      "\n"
     ]
    }
   ],
   "source": [
    "# See docstring for dataset_download_files method\n",
    "help(kaggle.api.dataset_download_files)"
   ]
  },
  {
   "cell_type": "code",
   "execution_count": 24,
   "id": "57986be4-e517-4995-9428-5b0c73eded5c",
   "metadata": {},
   "outputs": [
    {
     "name": "stdout",
     "output_type": "stream",
     "text": [
      "Data already downloaded...skipping this step\n"
     ]
    }
   ],
   "source": [
    "data_name = 'jessevent/all-crypto-currencies'\n",
    "local_path_to_data = 'datasets/all-crypto-currencies'\n",
    "\n",
    "if not os.path.exists(local_path_to_data):\n",
    "    os.makedirs(local_path_to_data, exist_ok=True)\n",
    "    kaggle.api.dataset_download_files(data_name, \n",
    "                                      path=local_path_to_data, \n",
    "                                      unzip=True)\n",
    "else:\n",
    "    print(\"Data already downloaded...skipping this step\")"
   ]
  },
  {
   "cell_type": "code",
   "execution_count": null,
   "id": "e03275af-58e1-4036-9f8a-b07fc8277a8e",
   "metadata": {},
   "outputs": [],
   "source": [
    "# Quick check on data\n",
    "pd.read_csv()"
   ]
  }
 ],
 "metadata": {
  "kernelspec": {
   "display_name": "Python 3 (ipykernel)",
   "language": "python",
   "name": "python3"
  },
  "language_info": {
   "codemirror_mode": {
    "name": "ipython",
    "version": 3
   },
   "file_extension": ".py",
   "mimetype": "text/x-python",
   "name": "python",
   "nbconvert_exporter": "python",
   "pygments_lexer": "ipython3",
   "version": "3.9.12"
  }
 },
 "nbformat": 4,
 "nbformat_minor": 5
}
