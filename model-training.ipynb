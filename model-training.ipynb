{
 "cells": [
  {
   "cell_type": "code",
   "execution_count": 1,
   "id": "29fb09b1-6503-4dc6-b9c3-608c3e528fc7",
   "metadata": {},
   "outputs": [
    {
     "name": "stderr",
     "output_type": "stream",
     "text": [
      "C:\\Users\\David\\AppData\\Local\\Packages\\PythonSoftwareFoundation.Python.3.9_qbz5n2kfra8p0\\LocalCache\\local-packages\\Python39\\site-packages\\tqdm\\auto.py:22: TqdmWarning: IProgress not found. Please update jupyter and ipywidgets. See https://ipywidgets.readthedocs.io/en/stable/user_install.html\n",
      "  from .autonotebook import tqdm as notebook_tqdm\n"
     ]
    }
   ],
   "source": [
    "import os\n",
    "from math import sqrt\n",
    "\n",
    "import numpy as np\n",
    "import pandas as pd\n",
    "import matplotlib.pyplot as plt\n",
    "import seaborn as sns\n",
    "from sklearn.preprocessing import MinMaxScaler\n",
    "import pickle\n",
    "import torch\n",
    "import torch.nn as nn\n",
    "\n",
    "from oit_helpers import DataPreprocessors,LSTM,createDataLoader,getDataLoader\n",
    "\n",
    "sns.set(style=\"darkgrid\", font_scale=1.5)\n",
    "%matplotlib inline"
   ]
  },
  {
   "cell_type": "markdown",
   "id": "3858f9c1-0e71-4643-b3ce-03553a213837",
   "metadata": {},
   "source": [
    "# Data Preprocessing"
   ]
  },
  {
   "cell_type": "markdown",
   "id": "3edc2f3d-d5d7-4f71-9f3e-ac0f2c2ba05b",
   "metadata": {},
   "source": [
    "## 1. Import the data"
   ]
  },
  {
   "cell_type": "code",
   "execution_count": 2,
   "id": "1f82701e-6eae-495d-88f7-57f778a1f9ad",
   "metadata": {},
   "outputs": [
    {
     "data": {
      "text/html": [
       "<div>\n",
       "<style scoped>\n",
       "    .dataframe tbody tr th:only-of-type {\n",
       "        vertical-align: middle;\n",
       "    }\n",
       "\n",
       "    .dataframe tbody tr th {\n",
       "        vertical-align: top;\n",
       "    }\n",
       "\n",
       "    .dataframe thead th {\n",
       "        text-align: right;\n",
       "    }\n",
       "</style>\n",
       "<table border=\"1\" class=\"dataframe\">\n",
       "  <thead>\n",
       "    <tr style=\"text-align: right;\">\n",
       "      <th></th>\n",
       "      <th>slug</th>\n",
       "      <th>symbol</th>\n",
       "      <th>name</th>\n",
       "      <th>ranknow</th>\n",
       "      <th>open</th>\n",
       "      <th>high</th>\n",
       "      <th>low</th>\n",
       "      <th>close</th>\n",
       "      <th>volume</th>\n",
       "      <th>market</th>\n",
       "      <th>close_ratio</th>\n",
       "      <th>spread</th>\n",
       "    </tr>\n",
       "    <tr>\n",
       "      <th>date</th>\n",
       "      <th></th>\n",
       "      <th></th>\n",
       "      <th></th>\n",
       "      <th></th>\n",
       "      <th></th>\n",
       "      <th></th>\n",
       "      <th></th>\n",
       "      <th></th>\n",
       "      <th></th>\n",
       "      <th></th>\n",
       "      <th></th>\n",
       "      <th></th>\n",
       "    </tr>\n",
       "  </thead>\n",
       "  <tbody>\n",
       "    <tr>\n",
       "      <th>2013-04-28</th>\n",
       "      <td>bitcoin</td>\n",
       "      <td>BTC</td>\n",
       "      <td>Bitcoin</td>\n",
       "      <td>1</td>\n",
       "      <td>135.30</td>\n",
       "      <td>135.98</td>\n",
       "      <td>132.10</td>\n",
       "      <td>134.21</td>\n",
       "      <td>0.0</td>\n",
       "      <td>1.488567e+09</td>\n",
       "      <td>0.5438</td>\n",
       "      <td>3.88</td>\n",
       "    </tr>\n",
       "    <tr>\n",
       "      <th>2013-04-29</th>\n",
       "      <td>bitcoin</td>\n",
       "      <td>BTC</td>\n",
       "      <td>Bitcoin</td>\n",
       "      <td>1</td>\n",
       "      <td>134.44</td>\n",
       "      <td>147.49</td>\n",
       "      <td>134.00</td>\n",
       "      <td>144.54</td>\n",
       "      <td>0.0</td>\n",
       "      <td>1.603769e+09</td>\n",
       "      <td>0.7813</td>\n",
       "      <td>13.49</td>\n",
       "    </tr>\n",
       "    <tr>\n",
       "      <th>2013-04-30</th>\n",
       "      <td>bitcoin</td>\n",
       "      <td>BTC</td>\n",
       "      <td>Bitcoin</td>\n",
       "      <td>1</td>\n",
       "      <td>144.00</td>\n",
       "      <td>146.93</td>\n",
       "      <td>134.05</td>\n",
       "      <td>139.00</td>\n",
       "      <td>0.0</td>\n",
       "      <td>1.542813e+09</td>\n",
       "      <td>0.3843</td>\n",
       "      <td>12.88</td>\n",
       "    </tr>\n",
       "  </tbody>\n",
       "</table>\n",
       "</div>"
      ],
      "text/plain": [
       "               slug symbol     name  ranknow    open    high     low   close  \\\n",
       "date                                                                           \n",
       "2013-04-28  bitcoin    BTC  Bitcoin        1  135.30  135.98  132.10  134.21   \n",
       "2013-04-29  bitcoin    BTC  Bitcoin        1  134.44  147.49  134.00  144.54   \n",
       "2013-04-30  bitcoin    BTC  Bitcoin        1  144.00  146.93  134.05  139.00   \n",
       "\n",
       "            volume        market  close_ratio  spread  \n",
       "date                                                   \n",
       "2013-04-28     0.0  1.488567e+09       0.5438    3.88  \n",
       "2013-04-29     0.0  1.603769e+09       0.7813   13.49  \n",
       "2013-04-30     0.0  1.542813e+09       0.3843   12.88  "
      ]
     },
     "execution_count": 2,
     "metadata": {},
     "output_type": "execute_result"
    }
   ],
   "source": [
    "data_location = './datasets/all-crypto-currencies/crypto-markets.csv'\n",
    "data = pd.read_csv(data_location, \n",
    "                   parse_dates=['date'], \n",
    "                   index_col=\"date\")\n",
    "data.head(3)"
   ]
  },
  {
   "cell_type": "markdown",
   "id": "deb5b674-5b45-489e-b3a8-43320c74f3f3",
   "metadata": {},
   "source": [
    "## 2. Extract Bitcoin closing prices"
   ]
  },
  {
   "cell_type": "code",
   "execution_count": 3,
   "id": "671c6ffa-844d-4e5e-bbbd-5ebfdaef961a",
   "metadata": {},
   "outputs": [
    {
     "data": {
      "text/plain": [
       "(2042, 1)"
      ]
     },
     "execution_count": 3,
     "metadata": {},
     "output_type": "execute_result"
    }
   ],
   "source": [
    "bit_data = (data\n",
    "            .query('slug==\"bitcoin\"')\n",
    "            .copy()[['close']])\n",
    "bit_data.shape"
   ]
  },
  {
   "cell_type": "code",
   "execution_count": 4,
   "id": "ec2c59e0-595c-4208-81cf-8319c852be4c",
   "metadata": {},
   "outputs": [
    {
     "data": {
      "image/png": "[encoded data removed]",
      "text/plain": [
       "<Figure size 720x288 with 1 Axes>"
      ]
     },
     "metadata": {
      "needs_background": "light"
     },
     "output_type": "display_data"
    }
   ],
   "source": [
    "plt.figure(figsize=(10,4))\n",
    "(sns.lineplot(x=bit_data.index, y=bit_data.close)\n",
    " .set_title(\"Closing price of Bitcoin\"));"
   ]
  },
  {
   "cell_type": "markdown",
   "id": "aef567b4-8320-467b-a5a3-1e2b0b0e0020",
   "metadata": {},
   "source": [
    "## 3. Initialize preprocessor object"
   ]
  },
  {
   "cell_type": "code",
   "execution_count": 5,
   "id": "a021ce8b-00fc-4443-afce-b89ba8a5101d",
   "metadata": {
    "tags": []
   },
   "outputs": [],
   "source": [
    "# our custom preprocessor class\n",
    "dprep = DataPreprocessors(data=bit_data)"
   ]
  },
  {
   "cell_type": "markdown",
   "id": "d211b6c2-4bcf-42bf-9312-93fbe703dd36",
   "metadata": {},
   "source": [
    "## 4. Prepare time series data"
   ]
  },
  {
   "cell_type": "code",
   "execution_count": 6,
   "id": "7d9cc6e4-025d-46f7-b640-cc8d348c5212",
   "metadata": {},
   "outputs": [],
   "source": [
    "series_data = dprep.original_data.iloc[:,0] # we need a pandas series for the function\n",
    "n_lag = 7 # aka the timestep\n",
    "historical_all,target_all = dprep.create_timeseries_sequences(data=series_data,\n",
    "                                                              timestep=n_lag)"
   ]
  },
  {
   "cell_type": "markdown",
   "id": "96ae7929-0939-4af6-93cd-b96f0773fb87",
   "metadata": {},
   "source": [
    "## 5. Train test split"
   ]
  },
  {
   "cell_type": "code",
   "execution_count": 13,
   "id": "34db3f15-8e57-42bf-b970-23a13b0daf57",
   "metadata": {},
   "outputs": [
    {
     "name": "stdout",
     "output_type": "stream",
     "text": [
      "(2035, 7)\n",
      "(2035,)\n"
     ]
    }
   ],
   "source": [
    "print(historical_all.shape)\n",
    "print(target_all.shape)"
   ]
  },
  {
   "cell_type": "markdown",
   "id": "a7928a95-f927-47b3-b134-8e9d1ff54a38",
   "metadata": {},
   "source": [
    "Funky way of doing this, but essentially we are creating train/test datasets, then using the training set to further create train/validate datasets. This leads to **three** datasets: training (for training/tuning); validation (for tuning and assessing performance (while training) on data that \"haven't been seen\"; testing (for final validation).\n",
    "\n",
    "If you play around with this, careful not to make the training set too small. Validation and testing can be smaller, but also shouldn't be too small. Read up on this, or experiment."
   ]
  },
  {
   "cell_type": "code",
   "execution_count": 14,
   "id": "f60326a5-4b89-4a5a-ae3f-8d6a8a6b1216",
   "metadata": {},
   "outputs": [
    {
     "name": "stdout",
     "output_type": "stream",
     "text": [
      "Training set has shape (1933, 7)\n",
      "Test set has shape (102, 7)\n",
      "(1933, 7)\n",
      "(102, 7)\n",
      "(1933,)\n",
      "(102,)\n"
     ]
    }
   ],
   "source": [
    "historical_train, historical_test, target_train, target_test = (dprep\n",
    "                                                                .train_test_split(historical=historical_all, \n",
    "                                                                                  target=target_all, \n",
    "                                                                                  prop_train=.95,\n",
    "                                                                                  valid_set=False))\n",
    "# Question: why does historical_test have a shape of (102, 7)? Shouldn't it be (1933,)?\n",
    "print(historical_train.shape)\n",
    "print(historical_test.shape)\n",
    "print(target_train.shape)\n",
    "print(target_test.shape)"
   ]
  },
  {
   "cell_type": "code",
   "execution_count": 15,
   "id": "561aab78-ee52-4231-a06f-e842ee651ad3",
   "metadata": {},
   "outputs": [
    {
     "name": "stdout",
     "output_type": "stream",
     "text": [
      "Training set has shape (1449, 7)\n",
      "Validation set has shape (484, 7)\n"
     ]
    }
   ],
   "source": [
    "historical_train, historical_val, target_train, target_val = (dprep\n",
    "                                                                .train_test_split(historical=historical_train, \n",
    "                                                                                  target=target_train, \n",
    "                                                                                  prop_train=.75,\n",
    "                                                                                  valid_set=True))"
   ]
  },
  {
   "cell_type": "markdown",
   "id": "edfbfe57-30d4-4592-bc06-d7a5e55069e4",
   "metadata": {},
   "source": [
    "## 6. Normalize the data"
   ]
  },
  {
   "cell_type": "markdown",
   "id": "546e56e4-c801-4c5e-8ac2-92fb3a7bd1e3",
   "metadata": {},
   "source": [
    "I added a `normalize_data` method. Look at it closely and make sure you understand what's going on. Important: Remember that you don't want to mix information from the training into/from validation/testing data. Scaling data technically gathers information about the data that's being scaled so there's a proper way of doing this:\n",
    "\n",
    "- Gather information from the training data needed for scaling, and transform it\n",
    "- Use that information to also transform the validation/testing data\n",
    "- Note: We're not gathering information from validation/testing data\n",
    "\n",
    "The transformers we use from `scikit-learn` offer intuitive methods to do this: \n",
    "- `fit_transform()` for the training data\n",
    "- `transform()` for validation/testing data\n",
    "\n",
    "Make sure you see how this mechanism is working within the `normalize_data` method I wrote, and how it's being used in the cell below."
   ]
  },
  {
   "cell_type": "code",
   "execution_count": 16,
   "id": "47ea636d-2668-45ed-ba56-769555c0f672",
   "metadata": {},
   "outputs": [],
   "source": [
    "# Use the historical training set to create the scaler and normalize the data to be between 0 and 1\n",
    "historical_train, scaler_ = dprep.normalize_data(historical_train, train = True)\n",
    "# Normalize the validation set and the testing set\n",
    "historical_val, _ = dprep.normalize_data(historical_val, scaler_)\n",
    "historical_test, _ = dprep.normalize_data(historical_test, scaler_) "
   ]
  },
  {
   "cell_type": "markdown",
   "id": "2147770e-d716-4d40-a2c1-e9eef109eafb",
   "metadata": {},
   "source": [
    "# Data Modeling"
   ]
  },
  {
   "cell_type": "markdown",
   "id": "c87bf9d4-0d60-45de-8f76-21c14a65c2e8",
   "metadata": {},
   "source": [
    "## 1. Create dataloaders for training and test sets"
   ]
  },
  {
   "cell_type": "markdown",
   "id": "24c284b2-cca5-4304-ae77-9f5423fe71c0",
   "metadata": {},
   "source": [
    "One good practice when using PyTorch is to make use of their `DataLoader` class object. Read about it [here](https://www.geeksforgeeks.org/how-to-use-a-dataloader-in-pytorch/), but simply put...it's a custom class that organizes the data input we feed to torch models, and makes working with big data much more efficient in terms of time and memory.\n",
    "\n",
    "`params` is a dictionary that holds parameters used by the DataLoader object. I've added one (which is simply the default value as an example), but take a look [here](https://pytorch.org/docs/stable/data.html) to see a list of options that you can play around with. Get curious!\n",
    "\n",
    "Follow the trail and see how these parameters impact how PyTorch works with the data/model."
   ]
  },
  {
   "cell_type": "code",
   "execution_count": 17,
   "id": "934ad879-0688-45ce-bc32-d53144f5f501",
   "metadata": {},
   "outputs": [],
   "source": [
    "# Play around with these params\n",
    "params = {'batch_size':1}"
   ]
  },
  {
   "cell_type": "code",
   "execution_count": 18,
   "id": "46232e38-6f90-4a0a-b4b3-f180077dc0d8",
   "metadata": {},
   "outputs": [],
   "source": [
    "training_generator = getDataLoader(historical_train, target_train, params)\n",
    "test_generator = getDataLoader(historical_val, target_val, params)"
   ]
  },
  {
   "cell_type": "markdown",
   "id": "07aee47f-ae9b-4ef4-b019-8ba92811a957",
   "metadata": {},
   "source": [
    "## 2. Initialize the model"
   ]
  },
  {
   "cell_type": "code",
   "execution_count": 19,
   "id": "3a229bce-10bd-4ec3-82fe-eb614446ebec",
   "metadata": {},
   "outputs": [],
   "source": [
    "hidden_layer_size = 100\n",
    "n_layers = 1\n",
    "output_size = 1\n",
    "dropout = 0 #default\n",
    "device = \"cpu\" #only option, unless you have a fancy GPU\n",
    "\n",
    "model = LSTM(input_size = n_lag, \n",
    "             hidden_layer_size = hidden_layer_size, \n",
    "             output_size = output_size,\n",
    "             n_layers = n_layers,\n",
    "             do = dropout).to(device)"
   ]
  },
  {
   "cell_type": "markdown",
   "id": "7b1f04a0-3377-44f8-8800-f63d1aee0335",
   "metadata": {},
   "source": [
    "## 3. Define the loss function and optimizer"
   ]
  },
  {
   "cell_type": "markdown",
   "id": "6f975d1c-e2de-4f0e-bbaa-26d1350e0f4c",
   "metadata": {},
   "source": [
    "There are DOZENS of hyperparameters that we can tune in neural networks. Play around with these and try to see how they impact performance."
   ]
  },
  {
   "cell_type": "code",
   "execution_count": 20,
   "id": "ff012766-0cc4-4261-a365-478e14c4adfa",
   "metadata": {},
   "outputs": [],
   "source": [
    "# hyperparameters\n",
    "learning_rate = 1e-3\n",
    "n_epochs = 200"
   ]
  },
  {
   "cell_type": "code",
   "execution_count": 24,
   "id": "44bcfb6d-7751-4651-a08a-985696e461b4",
   "metadata": {},
   "outputs": [],
   "source": [
    "# using the mean squred error loss function. \n",
    "loss_fn = nn.MSELoss()\n",
    "# \n",
    "optim = torch.optim.Adam(model.parameters(), lr=learning_rate)"
   ]
  },
  {
   "cell_type": "markdown",
   "id": "e6b78362-da47-4b42-a138-a0b1e7d7151a",
   "metadata": {},
   "source": [
    "## 4. Train the model\n",
    "\n",
    "Note that what we're collecting in the lists below aren't the MSE values, but calculated RMSE values instead. Make sure you read about these two and how they are related. Just note that we're using MSE as the loss function, but simply collection RMSE for reporting purposes. Why? Because compared to MSE, RMSE is *in the same scale as the raw data*. Thus, you can interpret error in terms of dollar amounts."
   ]
  },
  {
   "cell_type": "code",
   "execution_count": 22,
   "id": "083c5fba-679a-4ecd-b54f-f77b96a91a14",
   "metadata": {},
   "outputs": [],
   "source": [
    "# Track the losses across epochs\n",
    "train_losses = []\n",
    "valid_losses = []"
   ]
  },
  {
   "cell_type": "code",
   "execution_count": 23,
   "id": "c1cb2c3a-eed3-47e4-89d3-7d67a2fb228e",
   "metadata": {},
   "outputs": [
    {
     "name": "stdout",
     "output_type": "stream",
     "text": [
      "Epoch 1   /200  | Train Loss: 18176.771 | Validation Loss: 64847.963\n",
      "Epoch 10  /200  | Train Loss: 5582.086 | Validation Loss: 61207.35\n",
      "Epoch 20  /200  | Train Loss: 2502.916 | Validation Loss: 59279.959\n",
      "Epoch 30  /200  | Train Loss: 1572.666 | Validation Loss: 58255.556\n",
      "Epoch 40  /200  | Train Loss: 1265.893 | Validation Loss: 57722.939\n",
      "Epoch 50  /200  | Train Loss: 1142.852 | Validation Loss: 57416.497\n",
      "Epoch 60  /200  | Train Loss: 1083.213 | Validation Loss: 57217.475\n",
      "Epoch 70  /200  | Train Loss: 1048.638 | Validation Loss: 57073.418\n",
      "Epoch 80  /200  | Train Loss: 1025.593 | Validation Loss: 56962.36\n"
     ]
    },
    {
     "ename": "KeyboardInterrupt",
     "evalue": "",
     "output_type": "error",
     "traceback": [
      "\u001b[1;31m---------------------------------------------------------------------------\u001b[0m",
      "\u001b[1;31mKeyboardInterrupt\u001b[0m                         Traceback (most recent call last)",
      "File \u001b[1;32m<timed exec>:11\u001b[0m, in \u001b[0;36m<module>\u001b[1;34m\u001b[0m\n",
      "File \u001b[1;32m~\\AppData\\Local\\Packages\\PythonSoftwareFoundation.Python.3.9_qbz5n2kfra8p0\\LocalCache\\local-packages\\Python39\\site-packages\\torch\\nn\\modules\\module.py:1110\u001b[0m, in \u001b[0;36mModule._call_impl\u001b[1;34m(self, *input, **kwargs)\u001b[0m\n\u001b[0;32m   1106\u001b[0m \u001b[38;5;66;03m# If we don't have any hooks, we want to skip the rest of the logic in\u001b[39;00m\n\u001b[0;32m   1107\u001b[0m \u001b[38;5;66;03m# this function, and just call forward.\u001b[39;00m\n\u001b[0;32m   1108\u001b[0m \u001b[38;5;28;01mif\u001b[39;00m \u001b[38;5;129;01mnot\u001b[39;00m (\u001b[38;5;28mself\u001b[39m\u001b[38;5;241m.\u001b[39m_backward_hooks \u001b[38;5;129;01mor\u001b[39;00m \u001b[38;5;28mself\u001b[39m\u001b[38;5;241m.\u001b[39m_forward_hooks \u001b[38;5;129;01mor\u001b[39;00m \u001b[38;5;28mself\u001b[39m\u001b[38;5;241m.\u001b[39m_forward_pre_hooks \u001b[38;5;129;01mor\u001b[39;00m _global_backward_hooks\n\u001b[0;32m   1109\u001b[0m         \u001b[38;5;129;01mor\u001b[39;00m _global_forward_hooks \u001b[38;5;129;01mor\u001b[39;00m _global_forward_pre_hooks):\n\u001b[1;32m-> 1110\u001b[0m     \u001b[38;5;28;01mreturn\u001b[39;00m forward_call(\u001b[38;5;241m*\u001b[39m\u001b[38;5;28minput\u001b[39m, \u001b[38;5;241m*\u001b[39m\u001b[38;5;241m*\u001b[39mkwargs)\n\u001b[0;32m   1111\u001b[0m \u001b[38;5;66;03m# Do not call functions when jit is used\u001b[39;00m\n\u001b[0;32m   1112\u001b[0m full_backward_hooks, non_full_backward_hooks \u001b[38;5;241m=\u001b[39m [], []\n",
      "File \u001b[1;32m~\\OiT-Project\\oit_helpers.py:166\u001b[0m, in \u001b[0;36mLSTM.forward\u001b[1;34m(self, input_seq)\u001b[0m\n\u001b[0;32m    161\u001b[0m \u001b[38;5;66;03m#lstm_out, self.hidden_cell = self.lstm(input_seq.view(len(input_seq) ,1, -1), self.hidden_cell)\u001b[39;00m\n\u001b[0;32m    162\u001b[0m \u001b[38;5;66;03m#predictions = self.linear(lstm_out.view(len(input_seq), -1))\u001b[39;00m\n\u001b[0;32m    163\u001b[0m \u001b[38;5;66;03m#return predictions[-1]\u001b[39;00m\n\u001b[0;32m    165\u001b[0m bs \u001b[38;5;241m=\u001b[39m input_seq\u001b[38;5;241m.\u001b[39mshape[\u001b[38;5;241m1\u001b[39m]\n\u001b[1;32m--> 166\u001b[0m out, _ \u001b[38;5;241m=\u001b[39m \u001b[38;5;28;43mself\u001b[39;49m\u001b[38;5;241;43m.\u001b[39;49m\u001b[43mlstm\u001b[49m\u001b[43m(\u001b[49m\u001b[43minput_seq\u001b[49m\u001b[43m,\u001b[49m\u001b[43m \u001b[49m\u001b[38;5;28;43mself\u001b[39;49m\u001b[38;5;241;43m.\u001b[39;49m\u001b[43mhidden_cell\u001b[49m\u001b[43m)\u001b[49m\n\u001b[0;32m    167\u001b[0m out \u001b[38;5;241m=\u001b[39m out\u001b[38;5;241m.\u001b[39mcontiguous()\u001b[38;5;241m.\u001b[39mview(\u001b[38;5;241m-\u001b[39m\u001b[38;5;241m1\u001b[39m, \u001b[38;5;28mself\u001b[39m\u001b[38;5;241m.\u001b[39mhidden_layer_size)\n\u001b[0;32m    168\u001b[0m out \u001b[38;5;241m=\u001b[39m \u001b[38;5;28mself\u001b[39m\u001b[38;5;241m.\u001b[39mlinear(out)\n",
      "File \u001b[1;32m~\\AppData\\Local\\Packages\\PythonSoftwareFoundation.Python.3.9_qbz5n2kfra8p0\\LocalCache\\local-packages\\Python39\\site-packages\\torch\\nn\\modules\\module.py:1110\u001b[0m, in \u001b[0;36mModule._call_impl\u001b[1;34m(self, *input, **kwargs)\u001b[0m\n\u001b[0;32m   1106\u001b[0m \u001b[38;5;66;03m# If we don't have any hooks, we want to skip the rest of the logic in\u001b[39;00m\n\u001b[0;32m   1107\u001b[0m \u001b[38;5;66;03m# this function, and just call forward.\u001b[39;00m\n\u001b[0;32m   1108\u001b[0m \u001b[38;5;28;01mif\u001b[39;00m \u001b[38;5;129;01mnot\u001b[39;00m (\u001b[38;5;28mself\u001b[39m\u001b[38;5;241m.\u001b[39m_backward_hooks \u001b[38;5;129;01mor\u001b[39;00m \u001b[38;5;28mself\u001b[39m\u001b[38;5;241m.\u001b[39m_forward_hooks \u001b[38;5;129;01mor\u001b[39;00m \u001b[38;5;28mself\u001b[39m\u001b[38;5;241m.\u001b[39m_forward_pre_hooks \u001b[38;5;129;01mor\u001b[39;00m _global_backward_hooks\n\u001b[0;32m   1109\u001b[0m         \u001b[38;5;129;01mor\u001b[39;00m _global_forward_hooks \u001b[38;5;129;01mor\u001b[39;00m _global_forward_pre_hooks):\n\u001b[1;32m-> 1110\u001b[0m     \u001b[38;5;28;01mreturn\u001b[39;00m forward_call(\u001b[38;5;241m*\u001b[39m\u001b[38;5;28minput\u001b[39m, \u001b[38;5;241m*\u001b[39m\u001b[38;5;241m*\u001b[39mkwargs)\n\u001b[0;32m   1111\u001b[0m \u001b[38;5;66;03m# Do not call functions when jit is used\u001b[39;00m\n\u001b[0;32m   1112\u001b[0m full_backward_hooks, non_full_backward_hooks \u001b[38;5;241m=\u001b[39m [], []\n",
      "File \u001b[1;32m~\\AppData\\Local\\Packages\\PythonSoftwareFoundation.Python.3.9_qbz5n2kfra8p0\\LocalCache\\local-packages\\Python39\\site-packages\\torch\\nn\\modules\\rnn.py:761\u001b[0m, in \u001b[0;36mLSTM.forward\u001b[1;34m(self, input, hx)\u001b[0m\n\u001b[0;32m    759\u001b[0m \u001b[38;5;28mself\u001b[39m\u001b[38;5;241m.\u001b[39mcheck_forward_args(\u001b[38;5;28minput\u001b[39m, hx, batch_sizes)\n\u001b[0;32m    760\u001b[0m \u001b[38;5;28;01mif\u001b[39;00m batch_sizes \u001b[38;5;129;01mis\u001b[39;00m \u001b[38;5;28;01mNone\u001b[39;00m:\n\u001b[1;32m--> 761\u001b[0m     result \u001b[38;5;241m=\u001b[39m \u001b[43m_VF\u001b[49m\u001b[38;5;241;43m.\u001b[39;49m\u001b[43mlstm\u001b[49m\u001b[43m(\u001b[49m\u001b[38;5;28;43minput\u001b[39;49m\u001b[43m,\u001b[49m\u001b[43m \u001b[49m\u001b[43mhx\u001b[49m\u001b[43m,\u001b[49m\u001b[43m \u001b[49m\u001b[38;5;28;43mself\u001b[39;49m\u001b[38;5;241;43m.\u001b[39;49m\u001b[43m_flat_weights\u001b[49m\u001b[43m,\u001b[49m\u001b[43m \u001b[49m\u001b[38;5;28;43mself\u001b[39;49m\u001b[38;5;241;43m.\u001b[39;49m\u001b[43mbias\u001b[49m\u001b[43m,\u001b[49m\u001b[43m \u001b[49m\u001b[38;5;28;43mself\u001b[39;49m\u001b[38;5;241;43m.\u001b[39;49m\u001b[43mnum_layers\u001b[49m\u001b[43m,\u001b[49m\n\u001b[0;32m    762\u001b[0m \u001b[43m                      \u001b[49m\u001b[38;5;28;43mself\u001b[39;49m\u001b[38;5;241;43m.\u001b[39;49m\u001b[43mdropout\u001b[49m\u001b[43m,\u001b[49m\u001b[43m \u001b[49m\u001b[38;5;28;43mself\u001b[39;49m\u001b[38;5;241;43m.\u001b[39;49m\u001b[43mtraining\u001b[49m\u001b[43m,\u001b[49m\u001b[43m \u001b[49m\u001b[38;5;28;43mself\u001b[39;49m\u001b[38;5;241;43m.\u001b[39;49m\u001b[43mbidirectional\u001b[49m\u001b[43m,\u001b[49m\u001b[43m \u001b[49m\u001b[38;5;28;43mself\u001b[39;49m\u001b[38;5;241;43m.\u001b[39;49m\u001b[43mbatch_first\u001b[49m\u001b[43m)\u001b[49m\n\u001b[0;32m    763\u001b[0m \u001b[38;5;28;01melse\u001b[39;00m:\n\u001b[0;32m    764\u001b[0m     result \u001b[38;5;241m=\u001b[39m _VF\u001b[38;5;241m.\u001b[39mlstm(\u001b[38;5;28minput\u001b[39m, batch_sizes, hx, \u001b[38;5;28mself\u001b[39m\u001b[38;5;241m.\u001b[39m_flat_weights, \u001b[38;5;28mself\u001b[39m\u001b[38;5;241m.\u001b[39mbias,\n\u001b[0;32m    765\u001b[0m                       \u001b[38;5;28mself\u001b[39m\u001b[38;5;241m.\u001b[39mnum_layers, \u001b[38;5;28mself\u001b[39m\u001b[38;5;241m.\u001b[39mdropout, \u001b[38;5;28mself\u001b[39m\u001b[38;5;241m.\u001b[39mtraining, \u001b[38;5;28mself\u001b[39m\u001b[38;5;241m.\u001b[39mbidirectional)\n",
      "\u001b[1;31mKeyboardInterrupt\u001b[0m: "
     ]
    }
   ],
   "source": [
    "%%time\n",
    "# Training loop over epochs\n",
    "for epoch in range(1, n_epochs + 1):\n",
    "    ls = 0\n",
    "    valid_ls = 0\n",
    "    # Train for one epoch\n",
    "    for xb, yb in training_generator:\n",
    "        # Perform the forward pass\n",
    "        # The pytorch.unsqueeze function adds a new dimension of size 1 to the tensor.\n",
    "        ips = xb.unsqueeze(0)\n",
    "        targs = yb\n",
    "        op = model(ips)\n",
    "\n",
    "        # Backpropagate the errors through the network\n",
    "        optim.zero_grad()\n",
    "        loss = loss_fn(op, targs)\n",
    "        loss.backward()\n",
    "        optim.step()\n",
    "        ls += (loss.item() / ips.shape[1])\n",
    "        \n",
    "    # Check the performance on validation data\n",
    "    for xb, yb in test_generator:\n",
    "        ips = xb.unsqueeze(0)\n",
    "        ops = model.predict(ips)\n",
    "        vls = loss_fn(ops, yb)\n",
    "        valid_ls += (vls.item() / xb.shape[1])\n",
    "\n",
    "    # Take the square root of the mean square error to see the loss in actual dollar amounts\n",
    "    rmse = lambda x: round(sqrt(x * 1.000), 3)\n",
    "    train_losses.append(str(rmse(ls)))\n",
    "    valid_losses.append(str(rmse(valid_ls)))\n",
    "\n",
    "    # Print the total loss for every tenth epoch\n",
    "    if (epoch % 10 == 0) or (epoch == 1):\n",
    "        print(f\"Epoch {str(epoch):<4}/{str(n_epochs):<4} | Train Loss: {train_losses[-1]:<8} | Validation Loss: {valid_losses[-1]:<8}\")"
   ]
  },
  {
   "cell_type": "code",
   "execution_count": null,
   "id": "82f60e66-2bd3-4d45-ad00-99e7e99aad56",
   "metadata": {},
   "outputs": [],
   "source": []
  }
 ],
 "metadata": {
  "kernelspec": {
   "display_name": "Python 3 (ipykernel)",
   "language": "python",
   "name": "python3"
  },
  "language_info": {
   "codemirror_mode": {
    "name": "ipython",
    "version": 3
   },
   "file_extension": ".py",
   "mimetype": "text/x-python",
   "name": "python",
   "nbconvert_exporter": "python",
   "pygments_lexer": "ipython3",
   "version": "3.9.12"
  }
 },
 "nbformat": 4,
 "nbformat_minor": 5
}
